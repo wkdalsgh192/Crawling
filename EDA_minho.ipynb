{
  "nbformat": 4,
  "nbformat_minor": 0,
  "metadata": {
    "colab": {
      "name": "EDA_minho.ipynb",
      "version": "0.3.2",
      "provenance": [],
      "collapsed_sections": [],
      "include_colab_link": true
    },
    "kernelspec": {
      "name": "python3",
      "display_name": "Python 3"
    }
  },
  "cells": [
    {
      "cell_type": "markdown",
      "metadata": {
        "id": "view-in-github",
        "colab_type": "text"
      },
      "source": [
        "<a href=\"https://colab.research.google.com/github/wkdalsgh192/helloworld/blob/master/EDA_minho.ipynb\" target=\"_parent\"><img src=\"https://colab.research.google.com/assets/colab-badge.svg\" alt=\"Open In Colab\"/></a>"
      ]
    },
    {
      "cell_type": "markdown",
      "metadata": {
        "id": "l4xQvPm1x4b4",
        "colab_type": "text"
      },
      "source": [
        "**What is EDA?**\n",
        "  Exploratory Data Analysis, which is also known as EDA is an approach to analyzing data sets to summarize their main characteristics, often with visual methods. Primarily EDA is for seeing what the data can tell us beyond the formal modeling or hypothesis testing task. </p>\n",
        "  1. Poping up a sample of the data set you have (w/ .head()), you can see the names of columns, the number of rows and columns (w/ .shape()), the data types and null values (w/ .info())  </p> \n",
        "  2. In each column, you can check the unique values and its frequency (w/ .unique() and .value_counts() ) </p>\n",
        "  3. Finally, explore data with beautiful graphs such as heatmap, box plot, distribution plot or regplot (run by seaborn, matplotlib)"
      ]
    },
    {
      "cell_type": "code",
      "metadata": {
        "id": "9Sfkhy4eajxU",
        "colab_type": "code",
        "outputId": "a4e48db3-7577-473b-ccc4-1d143b0684da",
        "colab": {
          "base_uri": "https://localhost:8080/",
          "height": 36
        }
      },
      "source": [
        "from google.colab import drive\n",
        "drive.mount('/content/gdrive')"
      ],
      "execution_count": 110,
      "outputs": [
        {
          "output_type": "stream",
          "text": [
            "Drive already mounted at /content/gdrive; to attempt to forcibly remount, call drive.mount(\"/content/gdrive\", force_remount=True).\n"
          ],
          "name": "stdout"
        }
      ]
    },
    {
      "cell_type": "code",
      "metadata": {
        "id": "5CifwvGlZKd9",
        "colab_type": "code",
        "outputId": "d2cc8e0c-38f4-4079-f36a-ed362ef70c15",
        "colab": {
          "base_uri": "https://localhost:8080/",
          "height": 36
        }
      },
      "source": [
        "cd /content/gdrive/My Drive"
      ],
      "execution_count": 111,
      "outputs": [
        {
          "output_type": "stream",
          "text": [
            "/content/gdrive/My Drive\n"
          ],
          "name": "stdout"
        }
      ]
    },
    {
      "cell_type": "markdown",
      "metadata": {
        "id": "meBCe5ayTO7O",
        "colab_type": "text"
      },
      "source": [
        "# Importing Packages In Advance\n",
        "  "
      ]
    },
    {
      "cell_type": "markdown",
      "metadata": {
        "id": "vM9OwozFWfpL",
        "colab_type": "text"
      },
      "source": [
        "* 'datatime' package : one of the modules that python has in order to work with dates and times. Commonly used classes are 1. date class 2. time class 3. datetime class 4. timedelta class."
      ]
    },
    {
      "cell_type": "code",
      "metadata": {
        "id": "qGZx3qbuTjUv",
        "colab_type": "code",
        "colab": {}
      },
      "source": [
        "import pandas as pd\n",
        "import matplotlib.pyplot as plt\n",
        "import matplotlib.font_manager as fm\n",
        "import seaborn as sns\n",
        "import numpy as np\n",
        "import datetime"
      ],
      "execution_count": 0,
      "outputs": []
    },
    {
      "cell_type": "markdown",
      "metadata": {
        "id": "0hUoeDmHpzBL",
        "colab_type": "text"
      },
      "source": [
        "## Changing to pd.to_datetime format\n",
        " </p>\n",
        "\n",
        "In version 0.18.1 you can use to_datetime, but:\n",
        "\n",
        "  * names of columns have to be year, month, day, hour, minute\n",
        "  * minimal columns are year, month and day    </p>\n",
        "  \n",
        "Functions to use\n",
        " * Lambda function : In Python, anonymous function means that a function is without a name. As we already know that def function is used to define the normal functions, lambda keyword is used to create anonymous functions. Its syntax is followed by: *lambda arguments : expressions*"
      ]
    },
    {
      "cell_type": "code",
      "metadata": {
        "id": "QM5STGEmbK2y",
        "colab_type": "code",
        "outputId": "048270d9-8ef3-4799-9157-dcfb9cce3669",
        "colab": {
          "base_uri": "https://localhost:8080/",
          "height": 166
        }
      },
      "source": [
        "# ------------------------------------------------------------------------------------------\n",
        "# Sample coding using the def function\n",
        "def make_date(x, y, z):\n",
        "  my_date = str(x) + str(y) + str(z)\n",
        "  return datetime.datetime.strptime(my_date, '%Y%m%d').date()\n",
        "\n",
        "\n",
        "df = pd.read_csv(\"AFSNT.csv\")\n",
        "df['Date'] = df.apply(lambda x : make_date(x['SDT_YY'], x['SDT_MM'], x['SDT_DD']), axis =1)\n",
        "print(df.tail())\n",
        "\n",
        "#___________________________________________________________________________________________\n",
        "# Sample coding using pd.DataFrame\n",
        "#df_date = pd.DataFrame({'year': df1['SDT_YY'], 'month': df1['SDT_MM'], 'day': df1['SDT_DD'], 'hour': df1['STT']})\n",
        "#df1['Date'] = pd.to_datetime(df_date[['year', 'month', 'day']])"
      ],
      "execution_count": 113,
      "outputs": [
        {
          "output_type": "stream",
          "text": [
            "        SDT_YY  SDT_MM  SDT_DD SDT_DY   ARP  ... DLY  DRR CNL  CNR        Date\n",
            "987704    2019       6      30     ÀÏ  ARP3  ...   Y  C02   N  NaN  2019-06-30\n",
            "987705    2019       6      30     ÀÏ  ARP3  ...   N  NaN   N  NaN  2019-06-30\n",
            "987706    2019       6      30     ÀÏ  ARP3  ...   N  NaN   N  NaN  2019-06-30\n",
            "987707    2019       6      30     ÀÏ  ARP3  ...   N  NaN   N  NaN  2019-06-30\n",
            "987708    2019       6      30     ÀÏ  ARP3  ...   N  NaN   N  NaN  2019-06-30\n",
            "\n",
            "[5 rows x 18 columns]\n"
          ],
          "name": "stdout"
        }
      ]
    },
    {
      "cell_type": "code",
      "metadata": {
        "id": "SSTOJCAdZPzB",
        "colab_type": "code",
        "outputId": "52f94ed7-3184-4913-df62-3811307130c5",
        "colab": {
          "base_uri": "https://localhost:8080/",
          "height": 247
        }
      },
      "source": [
        "df['STT']=pd.to_datetime(df_select['STT'],format=\"%H:%M\")\n",
        "df_select['ATT']=pd.to_datetime(df_select['ATT'],format=\"%H:%M\")\n",
        "df_select['interval']=df_select['ATT']-df_select['STT']\n",
        "df_select=df_select.loc[:,['ARP','ODP','FLO','FLT','AOD','IRR','DLY','DRR','CNL','CNR','Date','interval']]\n",
        "df_select.info()\n"
      ],
      "execution_count": 114,
      "outputs": [
        {
          "output_type": "error",
          "ename": "NameError",
          "evalue": "ignored",
          "traceback": [
            "\u001b[0;31m---------------------------------------------------------------------------\u001b[0m",
            "\u001b[0;31mNameError\u001b[0m                                 Traceback (most recent call last)",
            "\u001b[0;32m<ipython-input-114-8db0b5b5b834>\u001b[0m in \u001b[0;36m<module>\u001b[0;34m()\u001b[0m\n\u001b[0;32m----> 1\u001b[0;31m \u001b[0mdf\u001b[0m\u001b[0;34m[\u001b[0m\u001b[0;34m'STT'\u001b[0m\u001b[0;34m]\u001b[0m\u001b[0;34m=\u001b[0m\u001b[0mpd\u001b[0m\u001b[0;34m.\u001b[0m\u001b[0mto_datetime\u001b[0m\u001b[0;34m(\u001b[0m\u001b[0mdf_select\u001b[0m\u001b[0;34m[\u001b[0m\u001b[0;34m'STT'\u001b[0m\u001b[0;34m]\u001b[0m\u001b[0;34m,\u001b[0m\u001b[0mformat\u001b[0m\u001b[0;34m=\u001b[0m\u001b[0;34m\"%H:%M\"\u001b[0m\u001b[0;34m)\u001b[0m\u001b[0;34m\u001b[0m\u001b[0;34m\u001b[0m\u001b[0m\n\u001b[0m\u001b[1;32m      2\u001b[0m \u001b[0mdf_select\u001b[0m\u001b[0;34m[\u001b[0m\u001b[0;34m'ATT'\u001b[0m\u001b[0;34m]\u001b[0m\u001b[0;34m=\u001b[0m\u001b[0mpd\u001b[0m\u001b[0;34m.\u001b[0m\u001b[0mto_datetime\u001b[0m\u001b[0;34m(\u001b[0m\u001b[0mdf_select\u001b[0m\u001b[0;34m[\u001b[0m\u001b[0;34m'ATT'\u001b[0m\u001b[0;34m]\u001b[0m\u001b[0;34m,\u001b[0m\u001b[0mformat\u001b[0m\u001b[0;34m=\u001b[0m\u001b[0;34m\"%H:%M\"\u001b[0m\u001b[0;34m)\u001b[0m\u001b[0;34m\u001b[0m\u001b[0;34m\u001b[0m\u001b[0m\n\u001b[1;32m      3\u001b[0m \u001b[0mdf_select\u001b[0m\u001b[0;34m[\u001b[0m\u001b[0;34m'interval'\u001b[0m\u001b[0;34m]\u001b[0m\u001b[0;34m=\u001b[0m\u001b[0mdf_select\u001b[0m\u001b[0;34m[\u001b[0m\u001b[0;34m'ATT'\u001b[0m\u001b[0;34m]\u001b[0m\u001b[0;34m-\u001b[0m\u001b[0mdf_select\u001b[0m\u001b[0;34m[\u001b[0m\u001b[0;34m'STT'\u001b[0m\u001b[0;34m]\u001b[0m\u001b[0;34m\u001b[0m\u001b[0;34m\u001b[0m\u001b[0m\n\u001b[1;32m      4\u001b[0m \u001b[0mdf_select\u001b[0m\u001b[0;34m=\u001b[0m\u001b[0mdf_select\u001b[0m\u001b[0;34m.\u001b[0m\u001b[0mloc\u001b[0m\u001b[0;34m[\u001b[0m\u001b[0;34m:\u001b[0m\u001b[0;34m,\u001b[0m\u001b[0;34m[\u001b[0m\u001b[0;34m'ARP'\u001b[0m\u001b[0;34m,\u001b[0m\u001b[0;34m'ODP'\u001b[0m\u001b[0;34m,\u001b[0m\u001b[0;34m'FLO'\u001b[0m\u001b[0;34m,\u001b[0m\u001b[0;34m'FLT'\u001b[0m\u001b[0;34m,\u001b[0m\u001b[0;34m'AOD'\u001b[0m\u001b[0;34m,\u001b[0m\u001b[0;34m'IRR'\u001b[0m\u001b[0;34m,\u001b[0m\u001b[0;34m'DLY'\u001b[0m\u001b[0;34m,\u001b[0m\u001b[0;34m'DRR'\u001b[0m\u001b[0;34m,\u001b[0m\u001b[0;34m'CNL'\u001b[0m\u001b[0;34m,\u001b[0m\u001b[0;34m'CNR'\u001b[0m\u001b[0;34m,\u001b[0m\u001b[0;34m'Date'\u001b[0m\u001b[0;34m,\u001b[0m\u001b[0;34m'interval'\u001b[0m\u001b[0;34m]\u001b[0m\u001b[0;34m]\u001b[0m\u001b[0;34m\u001b[0m\u001b[0;34m\u001b[0m\u001b[0m\n\u001b[1;32m      5\u001b[0m \u001b[0mdf_select\u001b[0m\u001b[0;34m.\u001b[0m\u001b[0minfo\u001b[0m\u001b[0;34m(\u001b[0m\u001b[0;34m)\u001b[0m\u001b[0;34m\u001b[0m\u001b[0;34m\u001b[0m\u001b[0m\n",
            "\u001b[0;31mNameError\u001b[0m: name 'df_select' is not defined"
          ]
        }
      ]
    },
    {
      "cell_type": "code",
      "metadata": {
        "id": "kV1RRZ9U8wXn",
        "colab_type": "code",
        "colab": {}
      },
      "source": [
        "#-------------------------------------------------------------------------------------------\n",
        "#Convert 'str' data types into 'datetime'\n",
        "#df = df['Date', 'STT', 'ATT']\n",
        "#def create_flight_time(df, col):\n",
        "#  list = []\n",
        "#  for index, cols in df[['Date', col]].iterrows():\n",
        "#    if pd.isnull(cols[1]):\n",
        "#      return list.append(np.nan)\n",
        "#    elif float(cols[1]) ==2400:\n",
        "#      cols[0] += datetime.timedelta(days = 1)\n",
        "    \n",
        "  \n",
        "#df['SDT'] = create_flight_time(df. 'SDT')\n",
        "#-------------------------------------------------------------------------------------------\n",
        "#df_times = pd.DataFrame({'hour': df1['STT']})\n",
        "#df1['STT'] = pd.to_datetime(df_times['hour'])\n",
        "\n",
        "#df_times = pd.DataFrame({'hour': df1['ATT']})\n",
        "#df1['ATT'] = pd.to_datetime(df_times['hour'])\n",
        "#df1.head()\n",
        "#-------------------------------------------------------------------------------------------\n",
        "df['STT']=pd.to_datetime(df['STT'],format=\"%H:%M\")\n",
        "df['ATT']=pd.to_datetime(df['ATT'],format=\"%H:%M\")\n",
        "df['Delay_time']=df['ATT']-df['STT']\n",
        "df=df.loc[:,['Date', 'Delay_time', 'AOD', 'ARP', 'ODP', 'FLO', 'FLT', 'IRR', 'DLY', 'DRR', 'CNL', 'CNR']]\n"
      ],
      "execution_count": 0,
      "outputs": []
    },
    {
      "cell_type": "markdown",
      "metadata": {
        "id": "zvyTIbGRtn-H",
        "colab_type": "text"
      },
      "source": [
        "* Pandas *DataFrame.set_index()* : This function set the DataFrame index(row labels) using one or more existing columns or arrays (of the correct length). The index can replace the existing index or expand on it. </p>(Click the link following by: https://pandas.pydata.org/pandas-docs/stable/reference/api/pandas.DataFrame.set_index.html)\n",
        "* Pandas *Series.reset_index()* : This function generates a new DataFrame or Series with the index reset. </p>\n",
        "(Note that Pandas series is a One-dimensional ndarray with axis labels. The labels need not be unique but must be a hashable type. The object supports both integer- and label-based indexing and provides a host of methods for performing operations involving the index. source: https://pandas.pydata.org/pandas-docs/stable/reference/api/pandas.DataFrame.reset_index.html)\n",
        "\n",
        "* Numpy *ndarray.tolist()* : This function helps to convert data elements to a list type.\n",
        "(For more information, click this link following by : https://www.quora.com/What-is-the-difference-between-an-ARRAY-and-a-LIST)"
      ]
    },
    {
      "cell_type": "code",
      "metadata": {
        "id": "MrAYjm8EJ4Rp",
        "colab_type": "code",
        "colab": {}
      },
      "source": [
        "#Filter the factors\n",
        "rearrange = ['Date', 'STT', 'ATT', 'AOD', 'ARP', 'ODP', 'FLO', 'FLT', 'IRR', 'DLY', 'DRR', 'CNL', 'CNR']\n",
        "df = df[rearrange]\n",
        "df[:5]"
      ],
      "execution_count": 0,
      "outputs": []
    },
    {
      "cell_type": "code",
      "metadata": {
        "id": "7stB3gzRqPCa",
        "colab_type": "code",
        "colab": {}
      },
      "source": [
        "#check missing values\n",
        "#----------------------------------------------------------------------\n",
        "#Sample code making a new dataframe\n",
        "missing_df = df.isnull().sum(axis = 0).reset_index()\n",
        "missing_df.columns = ['variable', 'missing_values']\n",
        "missing_df['filling_factors_(%)'] = (df.shape[0] - missing_df['missing_values'])/df.shape[0]*100\n",
        "missing_df.sort_values('filling_factors_(%)').reset_index(drop = True)\n",
        "\n",
        "#----------------------------------------------------------------------\n",
        "#Sample code using .tolist()\n",
        "#df.replace(\"?\", np.nan, inplace = True)\n",
        "#missing_data = df.isnull()\n",
        "#missing_data.head()\n",
        "#for column in missing_data.columns.values.tolist():\n",
        "#  print(column)\n",
        "#  print(missing_data[column].value_counts())\n",
        "#  print(\"\")"
      ],
      "execution_count": 0,
      "outputs": []
    },
    {
      "cell_type": "code",
      "metadata": {
        "id": "xdky6J13580a",
        "colab_type": "code",
        "colab": {}
      },
      "source": [
        "df_date = pd.DataFrame({'year': df1['SDT_YY'], 'month': df1['SDT_MM'], 'day': df1['SDT_DD'], 'hour': df1['STT']})\n",
        "\n",
        "df1['Date'] = pd.to_datetime(df_date[['year', 'month', 'day']])\n",
        "     \n",
        "#df_dates = df1['SDT_YY'].map(str) + df1['SDT_MM'].map(str) + df1['SDT_DD'].map(str)\n",
        "#df_dates.head()\n",
        "\n",
        "\n",
        "#from pandas import DataFrame\n",
        "#Dates = {df1['SDT_YY'], df1['SDT_MM'], df1['SDT_DD']}\n",
        "#df_dates = DataFrame(Dates, columns = ['SDT_YY', 'SDT_MM', 'SDT_DD'])\n",
        "\n",
        "#date_str = pd.concat(df1[['SDT_YY', 'SDT_MM', 'SDT_DD']], axis = 1)\n",
        "#date_str.head()"
      ],
      "execution_count": 0,
      "outputs": []
    },
    {
      "cell_type": "code",
      "metadata": {
        "id": "t0pW7iOn0ZwB",
        "colab_type": "code",
        "colab": {}
      },
      "source": [
        "df_dly = df1[df1['Intervals'].dt.total_minut() < 30]\n",
        "df_dly"
      ],
      "execution_count": 0,
      "outputs": []
    },
    {
      "cell_type": "code",
      "metadata": {
        "id": "2YgNyYJ9-PoK",
        "colab_type": "code",
        "colab": {}
      },
      "source": [
        "df1['CNL'] = df['CNL']\n",
        "df1['CNR'] = df['CNR']\n",
        "df1['STT'] = df['STT']\n",
        "df1 = df1[['Date', 'SDT_DY', 'ARP', 'ODP', 'FLT', 'AOD', 'IRR', 'STT', 'Intervals', 'DLY', 'DRR']]\n",
        "\n",
        "\n",
        "df2 = df1[df1.DLY != 'N']\n",
        "df3 = df2[df2.DRR == 'A01']\n",
        "df3.head()"
      ],
      "execution_count": 0,
      "outputs": []
    },
    {
      "cell_type": "markdown",
      "metadata": {
        "id": "VuJR4fZUNhMx",
        "colab_type": "text"
      },
      "source": [
        "# Comparing Airlines </p>\n",
        "\n",
        "Useful funtions\n",
        "* *Pandas DataFrame.drop()* : This function drop specified labels from rows and columns </p>(For more information, check this document out: https://pandas.pydata.org/pandas-docs/version/0.23.4/generated/pandas.DataFrame.drop.html)"
      ]
    },
    {
      "cell_type": "code",
      "metadata": {
        "id": "d1B78SGmT8De",
        "colab_type": "code",
        "colab": {}
      },
      "source": [
        "#Retrieve the airline variables\n",
        "\n",
        "df_als = pd.read_csv(\"airlines.csv\")\n",
        "df_als.dropna(axis = 'rows')\n",
        "df_als.reset_index()\n",
        "airlines = df_als\n",
        "airlines_name = airlines.set_index('CODE')['AIRLINE'].to_dict()\n",
        "print(airlines_name)"
      ],
      "execution_count": 0,
      "outputs": []
    },
    {
      "cell_type": "code",
      "metadata": {
        "id": "RoUxOnSX54IM",
        "colab_type": "code",
        "colab": {}
      },
      "source": [
        "#----------------------------------------------------------------------------\n",
        "def group_stats(group):\n",
        "  return {'min': group.min(), 'max': group.max(), 'count': group.count(), 'mean': group.mean()}\n",
        "\n",
        "#----------------------------------------------------------------------------\n",
        "df['FLO'] = df['FLO'].replace(airlines_name)\n",
        "global_stats = df.groupby(['FLO', 'DLY'])['Delay_time'].apply(group_stats).unstack()\n",
        "global_stats = global_stats.sort_values('count')\n",
        "global_stats"
      ],
      "execution_count": 0,
      "outputs": []
    },
    {
      "cell_type": "code",
      "metadata": {
        "id": "u5p0N-JOgcuK",
        "colab_type": "code",
        "outputId": "c4ecfd75-9c59-4afe-fd4a-d5deb59575a2",
        "colab": {
          "base_uri": "https://localhost:8080/",
          "height": 577
        }
      },
      "source": [
        "#----------------------------------------------------------------------------\n",
        "#drop airlines having few flights\n",
        "drop_airlines = ['E', 'G', 'D', 'K', 'C']\n",
        "global_stats = global_stats.drop(index = drop_airlines)\n",
        "global_stats"
      ],
      "execution_count": 0,
      "outputs": [
        {
          "output_type": "stream",
          "text": [
            "/usr/local/lib/python3.6/dist-packages/pandas/core/generic.py:3812: PerformanceWarning: dropping on a non-lexsorted multi-index without a level parameter may impact performance.\n",
            "  new_axis = axis.drop(labels, errors=errors)\n"
          ],
          "name": "stderr"
        },
        {
          "output_type": "execute_result",
          "data": {
            "text/html": [
              "<div>\n",
              "<style scoped>\n",
              "    .dataframe tbody tr th:only-of-type {\n",
              "        vertical-align: middle;\n",
              "    }\n",
              "\n",
              "    .dataframe tbody tr th {\n",
              "        vertical-align: top;\n",
              "    }\n",
              "\n",
              "    .dataframe thead th {\n",
              "        text-align: right;\n",
              "    }\n",
              "</style>\n",
              "<table border=\"1\" class=\"dataframe\">\n",
              "  <thead>\n",
              "    <tr style=\"text-align: right;\">\n",
              "      <th></th>\n",
              "      <th></th>\n",
              "      <th>count</th>\n",
              "      <th>max</th>\n",
              "      <th>mean</th>\n",
              "      <th>min</th>\n",
              "    </tr>\n",
              "    <tr>\n",
              "      <th>FLO</th>\n",
              "      <th>DLY</th>\n",
              "      <th></th>\n",
              "      <th></th>\n",
              "      <th></th>\n",
              "      <th></th>\n",
              "    </tr>\n",
              "  </thead>\n",
              "  <tbody>\n",
              "    <tr>\n",
              "      <th>T'way Air</th>\n",
              "      <th>Y</th>\n",
              "      <td>11820</td>\n",
              "      <td>0 days 09:14:00</td>\n",
              "      <td>0 days 00:54:42.482233</td>\n",
              "      <td>-1 days +01:02:00</td>\n",
              "    </tr>\n",
              "    <tr>\n",
              "      <th>Easter airlines</th>\n",
              "      <th>Y</th>\n",
              "      <td>12533</td>\n",
              "      <td>0 days 11:35:00</td>\n",
              "      <td>0 days 00:57:59.018590</td>\n",
              "      <td>0 days 00:31:00</td>\n",
              "    </tr>\n",
              "    <tr>\n",
              "      <th>Air Busan</th>\n",
              "      <th>Y</th>\n",
              "      <td>14588</td>\n",
              "      <td>0 days 10:31:00</td>\n",
              "      <td>0 days 00:54:20.363312</td>\n",
              "      <td>0 days 00:31:00</td>\n",
              "    </tr>\n",
              "    <tr>\n",
              "      <th>Jin Air</th>\n",
              "      <th>Y</th>\n",
              "      <td>14679</td>\n",
              "      <td>0 days 07:01:00</td>\n",
              "      <td>0 days 00:51:51.587982</td>\n",
              "      <td>0 days 00:31:00</td>\n",
              "    </tr>\n",
              "    <tr>\n",
              "      <th>Jeju airlines</th>\n",
              "      <th>Y</th>\n",
              "      <td>18323</td>\n",
              "      <td>0 days 11:57:00</td>\n",
              "      <td>0 days 00:52:46.859138</td>\n",
              "      <td>0 days 00:31:00</td>\n",
              "    </tr>\n",
              "    <tr>\n",
              "      <th>Asiana airlines</th>\n",
              "      <th>Y</th>\n",
              "      <td>21078</td>\n",
              "      <td>0 days 10:59:00</td>\n",
              "      <td>0 days 00:55:51.853116</td>\n",
              "      <td>0 days 00:31:00</td>\n",
              "    </tr>\n",
              "    <tr>\n",
              "      <th>Korean Air Lines</th>\n",
              "      <th>Y</th>\n",
              "      <td>25916</td>\n",
              "      <td>0 days 12:45:00</td>\n",
              "      <td>0 days 00:49:57.981169</td>\n",
              "      <td>-1 days +09:08:00</td>\n",
              "    </tr>\n",
              "    <tr>\n",
              "      <th>T'way Air</th>\n",
              "      <th>N</th>\n",
              "      <td>71892</td>\n",
              "      <td>0 days 00:30:00</td>\n",
              "      <td>0 days 00:03:22.559672</td>\n",
              "      <td>-1 days +01:05:00</td>\n",
              "    </tr>\n",
              "    <tr>\n",
              "      <th>Easter airlines</th>\n",
              "      <th>N</th>\n",
              "      <td>75577</td>\n",
              "      <td>0 days 00:30:00</td>\n",
              "      <td>-1 days +23:59:21.023062</td>\n",
              "      <td>-1 days +00:05:00</td>\n",
              "    </tr>\n",
              "    <tr>\n",
              "      <th>Jin Air</th>\n",
              "      <th>N</th>\n",
              "      <td>80395</td>\n",
              "      <td>0 days 00:30:00</td>\n",
              "      <td>0 days 00:01:26.959139</td>\n",
              "      <td>-1 days +01:05:00</td>\n",
              "    </tr>\n",
              "    <tr>\n",
              "      <th>Jeju airlines</th>\n",
              "      <th>N</th>\n",
              "      <td>113612</td>\n",
              "      <td>0 days 00:30:00</td>\n",
              "      <td>0 days 00:02:09.807590</td>\n",
              "      <td>-1 days +00:10:00</td>\n",
              "    </tr>\n",
              "    <tr>\n",
              "      <th>Air Busan</th>\n",
              "      <th>N</th>\n",
              "      <td>120647</td>\n",
              "      <td>0 days 00:30:00</td>\n",
              "      <td>-1 days +23:59:30.622394</td>\n",
              "      <td>-1 days +00:50:00</td>\n",
              "    </tr>\n",
              "    <tr>\n",
              "      <th>Asiana airlines</th>\n",
              "      <th>N</th>\n",
              "      <td>156109</td>\n",
              "      <td>0 days 00:30:00</td>\n",
              "      <td>-1 days +23:57:24.057805</td>\n",
              "      <td>-1 days +00:30:00</td>\n",
              "    </tr>\n",
              "    <tr>\n",
              "      <th>Korean Air Lines</th>\n",
              "      <th>N</th>\n",
              "      <td>250531</td>\n",
              "      <td>0 days 00:30:00</td>\n",
              "      <td>-1 days +23:57:28.662081</td>\n",
              "      <td>-1 days +01:08:00</td>\n",
              "    </tr>\n",
              "  </tbody>\n",
              "</table>\n",
              "</div>"
            ],
            "text/plain": [
              "                       count  ...                min\n",
              "FLO              DLY          ...                   \n",
              "T'way Air        Y     11820  ...  -1 days +01:02:00\n",
              "Easter airlines  Y     12533  ...    0 days 00:31:00\n",
              "Air Busan        Y     14588  ...    0 days 00:31:00\n",
              "Jin Air          Y     14679  ...    0 days 00:31:00\n",
              "Jeju airlines    Y     18323  ...    0 days 00:31:00\n",
              "Asiana airlines  Y     21078  ...    0 days 00:31:00\n",
              "Korean Air Lines Y     25916  ...  -1 days +09:08:00\n",
              "T'way Air        N     71892  ...  -1 days +01:05:00\n",
              "Easter airlines  N     75577  ...  -1 days +00:05:00\n",
              "Jin Air          N     80395  ...  -1 days +01:05:00\n",
              "Jeju airlines    N    113612  ...  -1 days +00:10:00\n",
              "Air Busan        N    120647  ...  -1 days +00:50:00\n",
              "Asiana airlines  N    156109  ...  -1 days +00:30:00\n",
              "Korean Air Lines N    250531  ...  -1 days +01:08:00\n",
              "\n",
              "[14 rows x 4 columns]"
            ]
          },
          "metadata": {
            "tags": []
          },
          "execution_count": 72
        }
      ]
    },
    {
      "cell_type": "code",
      "metadata": {
        "id": "jHjSBdSjRgXn",
        "colab_type": "code",
        "outputId": "103fc8ef-18cb-4164-f785-51c8767c8901",
        "colab": {
          "base_uri": "https://localhost:8080/",
          "height": 488
        }
      },
      "source": [
        "global_stats = global_stats.reset_index(level = 'FLO')\n",
        "global_stats = global_stats.list(map(str,))"
      ],
      "execution_count": 0,
      "outputs": [
        {
          "output_type": "execute_result",
          "data": {
            "text/html": [
              "<div>\n",
              "<style scoped>\n",
              "    .dataframe tbody tr th:only-of-type {\n",
              "        vertical-align: middle;\n",
              "    }\n",
              "\n",
              "    .dataframe tbody tr th {\n",
              "        vertical-align: top;\n",
              "    }\n",
              "\n",
              "    .dataframe thead th {\n",
              "        text-align: right;\n",
              "    }\n",
              "</style>\n",
              "<table border=\"1\" class=\"dataframe\">\n",
              "  <thead>\n",
              "    <tr style=\"text-align: right;\">\n",
              "      <th></th>\n",
              "      <th>FLO</th>\n",
              "      <th>DLY</th>\n",
              "      <th>count</th>\n",
              "      <th>max</th>\n",
              "      <th>mean</th>\n",
              "      <th>min</th>\n",
              "    </tr>\n",
              "  </thead>\n",
              "  <tbody>\n",
              "    <tr>\n",
              "      <th>0</th>\n",
              "      <td>T'way Air</td>\n",
              "      <td>Y</td>\n",
              "      <td>11820</td>\n",
              "      <td>0 days 09:14:00</td>\n",
              "      <td>0 days 00:54:42.482233</td>\n",
              "      <td>-1 days +01:02:00</td>\n",
              "    </tr>\n",
              "    <tr>\n",
              "      <th>1</th>\n",
              "      <td>Easter airlines</td>\n",
              "      <td>Y</td>\n",
              "      <td>12533</td>\n",
              "      <td>0 days 11:35:00</td>\n",
              "      <td>0 days 00:57:59.018590</td>\n",
              "      <td>0 days 00:31:00</td>\n",
              "    </tr>\n",
              "    <tr>\n",
              "      <th>2</th>\n",
              "      <td>Air Busan</td>\n",
              "      <td>Y</td>\n",
              "      <td>14588</td>\n",
              "      <td>0 days 10:31:00</td>\n",
              "      <td>0 days 00:54:20.363312</td>\n",
              "      <td>0 days 00:31:00</td>\n",
              "    </tr>\n",
              "    <tr>\n",
              "      <th>3</th>\n",
              "      <td>Jin Air</td>\n",
              "      <td>Y</td>\n",
              "      <td>14679</td>\n",
              "      <td>0 days 07:01:00</td>\n",
              "      <td>0 days 00:51:51.587982</td>\n",
              "      <td>0 days 00:31:00</td>\n",
              "    </tr>\n",
              "    <tr>\n",
              "      <th>4</th>\n",
              "      <td>Jeju airlines</td>\n",
              "      <td>Y</td>\n",
              "      <td>18323</td>\n",
              "      <td>0 days 11:57:00</td>\n",
              "      <td>0 days 00:52:46.859138</td>\n",
              "      <td>0 days 00:31:00</td>\n",
              "    </tr>\n",
              "    <tr>\n",
              "      <th>5</th>\n",
              "      <td>Asiana airlines</td>\n",
              "      <td>Y</td>\n",
              "      <td>21078</td>\n",
              "      <td>0 days 10:59:00</td>\n",
              "      <td>0 days 00:55:51.853116</td>\n",
              "      <td>0 days 00:31:00</td>\n",
              "    </tr>\n",
              "    <tr>\n",
              "      <th>6</th>\n",
              "      <td>Korean Air Lines</td>\n",
              "      <td>Y</td>\n",
              "      <td>25916</td>\n",
              "      <td>0 days 12:45:00</td>\n",
              "      <td>0 days 00:49:57.981169</td>\n",
              "      <td>-1 days +09:08:00</td>\n",
              "    </tr>\n",
              "    <tr>\n",
              "      <th>7</th>\n",
              "      <td>T'way Air</td>\n",
              "      <td>N</td>\n",
              "      <td>71892</td>\n",
              "      <td>0 days 00:30:00</td>\n",
              "      <td>0 days 00:03:22.559672</td>\n",
              "      <td>-1 days +01:05:00</td>\n",
              "    </tr>\n",
              "    <tr>\n",
              "      <th>8</th>\n",
              "      <td>Easter airlines</td>\n",
              "      <td>N</td>\n",
              "      <td>75577</td>\n",
              "      <td>0 days 00:30:00</td>\n",
              "      <td>-1 days +23:59:21.023062</td>\n",
              "      <td>-1 days +00:05:00</td>\n",
              "    </tr>\n",
              "    <tr>\n",
              "      <th>9</th>\n",
              "      <td>Jin Air</td>\n",
              "      <td>N</td>\n",
              "      <td>80395</td>\n",
              "      <td>0 days 00:30:00</td>\n",
              "      <td>0 days 00:01:26.959139</td>\n",
              "      <td>-1 days +01:05:00</td>\n",
              "    </tr>\n",
              "    <tr>\n",
              "      <th>10</th>\n",
              "      <td>Jeju airlines</td>\n",
              "      <td>N</td>\n",
              "      <td>113612</td>\n",
              "      <td>0 days 00:30:00</td>\n",
              "      <td>0 days 00:02:09.807590</td>\n",
              "      <td>-1 days +00:10:00</td>\n",
              "    </tr>\n",
              "    <tr>\n",
              "      <th>11</th>\n",
              "      <td>Air Busan</td>\n",
              "      <td>N</td>\n",
              "      <td>120647</td>\n",
              "      <td>0 days 00:30:00</td>\n",
              "      <td>-1 days +23:59:30.622394</td>\n",
              "      <td>-1 days +00:50:00</td>\n",
              "    </tr>\n",
              "    <tr>\n",
              "      <th>12</th>\n",
              "      <td>Asiana airlines</td>\n",
              "      <td>N</td>\n",
              "      <td>156109</td>\n",
              "      <td>0 days 00:30:00</td>\n",
              "      <td>-1 days +23:57:24.057805</td>\n",
              "      <td>-1 days +00:30:00</td>\n",
              "    </tr>\n",
              "    <tr>\n",
              "      <th>13</th>\n",
              "      <td>Korean Air Lines</td>\n",
              "      <td>N</td>\n",
              "      <td>250531</td>\n",
              "      <td>0 days 00:30:00</td>\n",
              "      <td>-1 days +23:57:28.662081</td>\n",
              "      <td>-1 days +01:08:00</td>\n",
              "    </tr>\n",
              "  </tbody>\n",
              "</table>\n",
              "</div>"
            ],
            "text/plain": [
              "                 FLO DLY  ...                      mean                min\n",
              "0          T'way Air   Y  ...    0 days 00:54:42.482233  -1 days +01:02:00\n",
              "1    Easter airlines   Y  ...    0 days 00:57:59.018590    0 days 00:31:00\n",
              "2         Air Busan    Y  ...    0 days 00:54:20.363312    0 days 00:31:00\n",
              "3           Jin Air    Y  ...    0 days 00:51:51.587982    0 days 00:31:00\n",
              "4      Jeju airlines   Y  ...    0 days 00:52:46.859138    0 days 00:31:00\n",
              "5    Asiana airlines   Y  ...    0 days 00:55:51.853116    0 days 00:31:00\n",
              "6   Korean Air Lines   Y  ...    0 days 00:49:57.981169  -1 days +09:08:00\n",
              "7          T'way Air   N  ...    0 days 00:03:22.559672  -1 days +01:05:00\n",
              "8    Easter airlines   N  ...  -1 days +23:59:21.023062  -1 days +00:05:00\n",
              "9           Jin Air    N  ...    0 days 00:01:26.959139  -1 days +01:05:00\n",
              "10     Jeju airlines   N  ...    0 days 00:02:09.807590  -1 days +00:10:00\n",
              "11        Air Busan    N  ...  -1 days +23:59:30.622394  -1 days +00:50:00\n",
              "12   Asiana airlines   N  ...  -1 days +23:57:24.057805  -1 days +00:30:00\n",
              "13  Korean Air Lines   N  ...  -1 days +23:57:28.662081  -1 days +01:08:00\n",
              "\n",
              "[14 rows x 6 columns]"
            ]
          },
          "metadata": {
            "tags": []
          },
          "execution_count": 77
        }
      ]
    },
    {
      "cell_type": "code",
      "metadata": {
        "id": "rvYynyBqkL7z",
        "colab_type": "code",
        "outputId": "909ea8c3-fa58-4075-a185-fbe878555988",
        "colab": {
          "base_uri": "https://localhost:8080/",
          "height": 745
        }
      },
      "source": [
        "colors_list = ['cornsilk', 'lightblue', 'lightgreen', 'pink', 'cadetblue', 'indianred', 'darksalmon']\n",
        "\n",
        "global_stats['mean'].plot(kind = 'barh', figsize = (10, 6), colors = colors_list) \n",
        "\n",
        "plt.title('Mean Delay Time by Airlines', y = 1.05)\n",
        "plt.xlabel('Average Delay Time')\n",
        "plt.ylabel('Airlines')\n",
        "\n",
        "#annotate value labels to each country\n",
        "for index, value in enumerate(global_stats['mean']):\n",
        "    plt.annotate(str(value), xy = (value + 300000, index - 0.1), color = 'midnightblue')\n",
        "\n",
        "plt.show()"
      ],
      "execution_count": 0,
      "outputs": [
        {
          "output_type": "stream",
          "text": [
            "/usr/local/lib/python3.6/dist-packages/pandas/plotting/_core.py:185: UserWarning: 'colors' is being deprecated. Please use 'color'instead of 'colors'\n",
            "  warnings.warn((\"'colors' is being deprecated. Please use 'color'\"\n",
            "/usr/local/lib/python3.6/dist-packages/pandas/plotting/_core.py:223: FutureWarning: Passing integers to fillna is deprecated, will raise a TypeError in a future version.  To retain the old behavior, pass pd.Timedelta(seconds=n) instead.\n",
            "  data = data.fillna(fillna)\n"
          ],
          "name": "stderr"
        },
        {
          "output_type": "error",
          "ename": "TypeError",
          "evalue": "ignored",
          "traceback": [
            "\u001b[0;31m---------------------------------------------------------------------------\u001b[0m",
            "\u001b[0;31mTypeError\u001b[0m                                 Traceback (most recent call last)",
            "\u001b[0;32m<ipython-input-24-ba9b566233de>\u001b[0m in \u001b[0;36m<module>\u001b[0;34m()\u001b[0m\n\u001b[1;32m      9\u001b[0m \u001b[0;31m#annotate value labels to each country\u001b[0m\u001b[0;34m\u001b[0m\u001b[0;34m\u001b[0m\u001b[0;34m\u001b[0m\u001b[0m\n\u001b[1;32m     10\u001b[0m \u001b[0;32mfor\u001b[0m \u001b[0mindex\u001b[0m\u001b[0;34m,\u001b[0m \u001b[0mvalue\u001b[0m \u001b[0;32min\u001b[0m \u001b[0menumerate\u001b[0m\u001b[0;34m(\u001b[0m\u001b[0mglobal_stats\u001b[0m\u001b[0;34m[\u001b[0m\u001b[0;34m'mean'\u001b[0m\u001b[0;34m]\u001b[0m\u001b[0;34m)\u001b[0m\u001b[0;34m:\u001b[0m\u001b[0;34m\u001b[0m\u001b[0;34m\u001b[0m\u001b[0m\n\u001b[0;32m---> 11\u001b[0;31m     \u001b[0mplt\u001b[0m\u001b[0;34m.\u001b[0m\u001b[0mannotate\u001b[0m\u001b[0;34m(\u001b[0m\u001b[0mstr\u001b[0m\u001b[0;34m(\u001b[0m\u001b[0mvalue\u001b[0m\u001b[0;34m)\u001b[0m\u001b[0;34m,\u001b[0m \u001b[0mxy\u001b[0m \u001b[0;34m=\u001b[0m \u001b[0;34m(\u001b[0m\u001b[0mvalue\u001b[0m \u001b[0;34m+\u001b[0m \u001b[0;36m300000\u001b[0m\u001b[0;34m,\u001b[0m \u001b[0mindex\u001b[0m \u001b[0;34m-\u001b[0m \u001b[0;36m0.1\u001b[0m\u001b[0;34m)\u001b[0m\u001b[0;34m,\u001b[0m \u001b[0mcolor\u001b[0m \u001b[0;34m=\u001b[0m \u001b[0;34m'midnightblue'\u001b[0m\u001b[0;34m)\u001b[0m\u001b[0;34m\u001b[0m\u001b[0;34m\u001b[0m\u001b[0m\n\u001b[0m\u001b[1;32m     12\u001b[0m \u001b[0;34m\u001b[0m\u001b[0m\n\u001b[1;32m     13\u001b[0m \u001b[0mplt\u001b[0m\u001b[0;34m.\u001b[0m\u001b[0mshow\u001b[0m\u001b[0;34m(\u001b[0m\u001b[0;34m)\u001b[0m\u001b[0;34m\u001b[0m\u001b[0;34m\u001b[0m\u001b[0m\n",
            "\u001b[0;31mTypeError\u001b[0m: unsupported operand type(s) for +: 'Timedelta' and 'int'"
          ]
        },
        {
          "output_type": "display_data",
          "data": {
            "image/png": "[encoded data removed]",
            "text/plain": [
              "<Figure size 720x432 with 1 Axes>"
            ]
          },
          "metadata": {
            "tags": []
          }
        }
      ]
    },
    {
      "cell_type": "code",
      "metadata": {
        "id": "KgZOKBANvTbC",
        "colab_type": "code",
        "outputId": "faede359-e200-4a78-e56c-76fbbb441646",
        "colab": {
          "base_uri": "https://localhost:8080/",
          "height": 653
        }
      },
      "source": [
        "labels = global_stats['FLO']\n",
        "N_means = global_stats[global_stats['DLY'] == 'N']\n",
        "Y_means = global_stats[global_stats['DLY'] == 'Y']\n",
        "\n",
        "# sns.set(style=\"whitegrid\")\n",
        "#ax = sns.barplot(x=\"FLO\", y= 'mean', hue = \"DLY\", data= global_stats)\n",
        "\n",
        "x = np.arange(len(labels))  # the label locations\n",
        "width = 0.35  # the width of the bars\n",
        "\n",
        "fig, ax = plt.subplots()\n",
        "rects1 = ax.bar(x - width/2, N_means, width, label='On time (t < 30)')\n",
        "rects2 = ax.bar(x + width/2, Y_means, width, label='Delayed (t >30)')\n",
        "\n",
        "# Add some text for labels, title and custom x-axis tick labels, etc.\n",
        "ax.set_ylabel('Time')\n",
        "ax.set_title('Average Delay Time by DLY', y = 1.05)\n",
        "ax.set_xticks(x)\n",
        "ax.set_xticklabels(labels)\n",
        "ax.legend(loc = 'upper right')\n",
        "\n",
        "fig.tight_layout()\n",
        "\n",
        "plt.show()"
      ],
      "execution_count": 0,
      "outputs": [
        {
          "output_type": "error",
          "ename": "TypeError",
          "evalue": "ignored",
          "traceback": [
            "\u001b[0;31m---------------------------------------------------------------------------\u001b[0m",
            "\u001b[0;31mTypeError\u001b[0m                                 Traceback (most recent call last)",
            "\u001b[0;32m<ipython-input-79-c8603a50df4c>\u001b[0m in \u001b[0;36m<module>\u001b[0;34m()\u001b[0m\n\u001b[1;32m      7\u001b[0m \u001b[0;34m\u001b[0m\u001b[0m\n\u001b[1;32m      8\u001b[0m \u001b[0mfig\u001b[0m\u001b[0;34m,\u001b[0m \u001b[0max\u001b[0m \u001b[0;34m=\u001b[0m \u001b[0mplt\u001b[0m\u001b[0;34m.\u001b[0m\u001b[0msubplots\u001b[0m\u001b[0;34m(\u001b[0m\u001b[0;34m)\u001b[0m\u001b[0;34m\u001b[0m\u001b[0;34m\u001b[0m\u001b[0m\n\u001b[0;32m----> 9\u001b[0;31m \u001b[0mrects1\u001b[0m \u001b[0;34m=\u001b[0m \u001b[0max\u001b[0m\u001b[0;34m.\u001b[0m\u001b[0mbar\u001b[0m\u001b[0;34m(\u001b[0m\u001b[0mx\u001b[0m \u001b[0;34m-\u001b[0m \u001b[0mwidth\u001b[0m\u001b[0;34m/\u001b[0m\u001b[0;36m2\u001b[0m\u001b[0;34m,\u001b[0m \u001b[0mN_means\u001b[0m\u001b[0;34m,\u001b[0m \u001b[0mwidth\u001b[0m\u001b[0;34m,\u001b[0m \u001b[0mlabel\u001b[0m\u001b[0;34m=\u001b[0m\u001b[0;34m'On time (t < 30)'\u001b[0m\u001b[0;34m)\u001b[0m\u001b[0;34m\u001b[0m\u001b[0;34m\u001b[0m\u001b[0m\n\u001b[0m\u001b[1;32m     10\u001b[0m \u001b[0mrects2\u001b[0m \u001b[0;34m=\u001b[0m \u001b[0max\u001b[0m\u001b[0;34m.\u001b[0m\u001b[0mbar\u001b[0m\u001b[0;34m(\u001b[0m\u001b[0mx\u001b[0m \u001b[0;34m+\u001b[0m \u001b[0mwidth\u001b[0m\u001b[0;34m/\u001b[0m\u001b[0;36m2\u001b[0m\u001b[0;34m,\u001b[0m \u001b[0mY_means\u001b[0m\u001b[0;34m,\u001b[0m \u001b[0mwidth\u001b[0m\u001b[0;34m,\u001b[0m \u001b[0mlabel\u001b[0m\u001b[0;34m=\u001b[0m\u001b[0;34m'Delayed (t >30)'\u001b[0m\u001b[0;34m)\u001b[0m\u001b[0;34m\u001b[0m\u001b[0;34m\u001b[0m\u001b[0m\n\u001b[1;32m     11\u001b[0m \u001b[0;34m\u001b[0m\u001b[0m\n",
            "\u001b[0;32m/usr/local/lib/python3.6/dist-packages/matplotlib/__init__.py\u001b[0m in \u001b[0;36minner\u001b[0;34m(ax, data, *args, **kwargs)\u001b[0m\n\u001b[1;32m   1808\u001b[0m                         \u001b[0;34m\"the Matplotlib list!)\"\u001b[0m \u001b[0;34m%\u001b[0m \u001b[0;34m(\u001b[0m\u001b[0mlabel_namer\u001b[0m\u001b[0;34m,\u001b[0m \u001b[0mfunc\u001b[0m\u001b[0;34m.\u001b[0m\u001b[0m__name__\u001b[0m\u001b[0;34m)\u001b[0m\u001b[0;34m,\u001b[0m\u001b[0;34m\u001b[0m\u001b[0;34m\u001b[0m\u001b[0m\n\u001b[1;32m   1809\u001b[0m                         RuntimeWarning, stacklevel=2)\n\u001b[0;32m-> 1810\u001b[0;31m             \u001b[0;32mreturn\u001b[0m \u001b[0mfunc\u001b[0m\u001b[0;34m(\u001b[0m\u001b[0max\u001b[0m\u001b[0;34m,\u001b[0m \u001b[0;34m*\u001b[0m\u001b[0margs\u001b[0m\u001b[0;34m,\u001b[0m \u001b[0;34m**\u001b[0m\u001b[0mkwargs\u001b[0m\u001b[0;34m)\u001b[0m\u001b[0;34m\u001b[0m\u001b[0;34m\u001b[0m\u001b[0m\n\u001b[0m\u001b[1;32m   1811\u001b[0m \u001b[0;34m\u001b[0m\u001b[0m\n\u001b[1;32m   1812\u001b[0m         inner.__doc__ = _add_data_doc(inner.__doc__,\n",
            "\u001b[0;32m/usr/local/lib/python3.6/dist-packages/matplotlib/axes/_axes.py\u001b[0m in \u001b[0;36mbar\u001b[0;34m(self, x, height, width, bottom, align, **kwargs)\u001b[0m\n\u001b[1;32m   2223\u001b[0m \u001b[0;34m\u001b[0m\u001b[0m\n\u001b[1;32m   2224\u001b[0m         \u001b[0;32mif\u001b[0m \u001b[0morientation\u001b[0m \u001b[0;34m==\u001b[0m \u001b[0;34m'vertical'\u001b[0m\u001b[0;34m:\u001b[0m\u001b[0;34m\u001b[0m\u001b[0;34m\u001b[0m\u001b[0m\n\u001b[0;32m-> 2225\u001b[0;31m             \u001b[0mself\u001b[0m\u001b[0;34m.\u001b[0m\u001b[0m_process_unit_info\u001b[0m\u001b[0;34m(\u001b[0m\u001b[0mxdata\u001b[0m\u001b[0;34m=\u001b[0m\u001b[0mx\u001b[0m\u001b[0;34m,\u001b[0m \u001b[0mydata\u001b[0m\u001b[0;34m=\u001b[0m\u001b[0mheight\u001b[0m\u001b[0;34m,\u001b[0m \u001b[0mkwargs\u001b[0m\u001b[0;34m=\u001b[0m\u001b[0mkwargs\u001b[0m\u001b[0;34m)\u001b[0m\u001b[0;34m\u001b[0m\u001b[0;34m\u001b[0m\u001b[0m\n\u001b[0m\u001b[1;32m   2226\u001b[0m             \u001b[0;32mif\u001b[0m \u001b[0mlog\u001b[0m\u001b[0;34m:\u001b[0m\u001b[0;34m\u001b[0m\u001b[0;34m\u001b[0m\u001b[0m\n\u001b[1;32m   2227\u001b[0m                 \u001b[0mself\u001b[0m\u001b[0;34m.\u001b[0m\u001b[0mset_yscale\u001b[0m\u001b[0;34m(\u001b[0m\u001b[0;34m'log'\u001b[0m\u001b[0;34m,\u001b[0m \u001b[0mnonposy\u001b[0m\u001b[0;34m=\u001b[0m\u001b[0;34m'clip'\u001b[0m\u001b[0;34m)\u001b[0m\u001b[0;34m\u001b[0m\u001b[0;34m\u001b[0m\u001b[0m\n",
            "\u001b[0;32m/usr/local/lib/python3.6/dist-packages/matplotlib/axes/_base.py\u001b[0m in \u001b[0;36m_process_unit_info\u001b[0;34m(self, xdata, ydata, kwargs)\u001b[0m\n\u001b[1;32m   2134\u001b[0m \u001b[0;34m\u001b[0m\u001b[0m\n\u001b[1;32m   2135\u001b[0m         \u001b[0mkwargs\u001b[0m \u001b[0;34m=\u001b[0m \u001b[0m_process_single_axis\u001b[0m\u001b[0;34m(\u001b[0m\u001b[0mxdata\u001b[0m\u001b[0;34m,\u001b[0m \u001b[0mself\u001b[0m\u001b[0;34m.\u001b[0m\u001b[0mxaxis\u001b[0m\u001b[0;34m,\u001b[0m \u001b[0;34m'xunits'\u001b[0m\u001b[0;34m,\u001b[0m \u001b[0mkwargs\u001b[0m\u001b[0;34m)\u001b[0m\u001b[0;34m\u001b[0m\u001b[0;34m\u001b[0m\u001b[0m\n\u001b[0;32m-> 2136\u001b[0;31m         \u001b[0mkwargs\u001b[0m \u001b[0;34m=\u001b[0m \u001b[0m_process_single_axis\u001b[0m\u001b[0;34m(\u001b[0m\u001b[0mydata\u001b[0m\u001b[0;34m,\u001b[0m \u001b[0mself\u001b[0m\u001b[0;34m.\u001b[0m\u001b[0myaxis\u001b[0m\u001b[0;34m,\u001b[0m \u001b[0;34m'yunits'\u001b[0m\u001b[0;34m,\u001b[0m \u001b[0mkwargs\u001b[0m\u001b[0;34m)\u001b[0m\u001b[0;34m\u001b[0m\u001b[0;34m\u001b[0m\u001b[0m\n\u001b[0m\u001b[1;32m   2137\u001b[0m         \u001b[0;32mreturn\u001b[0m \u001b[0mkwargs\u001b[0m\u001b[0;34m\u001b[0m\u001b[0;34m\u001b[0m\u001b[0m\n\u001b[1;32m   2138\u001b[0m \u001b[0;34m\u001b[0m\u001b[0m\n",
            "\u001b[0;32m/usr/local/lib/python3.6/dist-packages/matplotlib/axes/_base.py\u001b[0m in \u001b[0;36m_process_single_axis\u001b[0;34m(data, axis, unit_name, kwargs)\u001b[0m\n\u001b[1;32m   2116\u001b[0m                 \u001b[0;31m# We only need to update if there is nothing set yet.\u001b[0m\u001b[0;34m\u001b[0m\u001b[0;34m\u001b[0m\u001b[0;34m\u001b[0m\u001b[0m\n\u001b[1;32m   2117\u001b[0m                 \u001b[0;32mif\u001b[0m \u001b[0;32mnot\u001b[0m \u001b[0maxis\u001b[0m\u001b[0;34m.\u001b[0m\u001b[0mhave_units\u001b[0m\u001b[0;34m(\u001b[0m\u001b[0;34m)\u001b[0m\u001b[0;34m:\u001b[0m\u001b[0;34m\u001b[0m\u001b[0;34m\u001b[0m\u001b[0m\n\u001b[0;32m-> 2118\u001b[0;31m                     \u001b[0maxis\u001b[0m\u001b[0;34m.\u001b[0m\u001b[0mupdate_units\u001b[0m\u001b[0;34m(\u001b[0m\u001b[0mdata\u001b[0m\u001b[0;34m)\u001b[0m\u001b[0;34m\u001b[0m\u001b[0;34m\u001b[0m\u001b[0m\n\u001b[0m\u001b[1;32m   2119\u001b[0m \u001b[0;34m\u001b[0m\u001b[0m\n\u001b[1;32m   2120\u001b[0m             \u001b[0;31m# Check for units in the kwargs, and if present update axis\u001b[0m\u001b[0;34m\u001b[0m\u001b[0;34m\u001b[0m\u001b[0;34m\u001b[0m\u001b[0m\n",
            "\u001b[0;32m/usr/local/lib/python3.6/dist-packages/matplotlib/axis.py\u001b[0m in \u001b[0;36mupdate_units\u001b[0;34m(self, data)\u001b[0m\n\u001b[1;32m   1471\u001b[0m         \u001b[0mneednew\u001b[0m \u001b[0;34m=\u001b[0m \u001b[0mself\u001b[0m\u001b[0;34m.\u001b[0m\u001b[0mconverter\u001b[0m \u001b[0;34m!=\u001b[0m \u001b[0mconverter\u001b[0m\u001b[0;34m\u001b[0m\u001b[0;34m\u001b[0m\u001b[0m\n\u001b[1;32m   1472\u001b[0m         \u001b[0mself\u001b[0m\u001b[0;34m.\u001b[0m\u001b[0mconverter\u001b[0m \u001b[0;34m=\u001b[0m \u001b[0mconverter\u001b[0m\u001b[0;34m\u001b[0m\u001b[0;34m\u001b[0m\u001b[0m\n\u001b[0;32m-> 1473\u001b[0;31m         \u001b[0mdefault\u001b[0m \u001b[0;34m=\u001b[0m \u001b[0mself\u001b[0m\u001b[0;34m.\u001b[0m\u001b[0mconverter\u001b[0m\u001b[0;34m.\u001b[0m\u001b[0mdefault_units\u001b[0m\u001b[0;34m(\u001b[0m\u001b[0mdata\u001b[0m\u001b[0;34m,\u001b[0m \u001b[0mself\u001b[0m\u001b[0;34m)\u001b[0m\u001b[0;34m\u001b[0m\u001b[0;34m\u001b[0m\u001b[0m\n\u001b[0m\u001b[1;32m   1474\u001b[0m         \u001b[0;32mif\u001b[0m \u001b[0mdefault\u001b[0m \u001b[0;32mis\u001b[0m \u001b[0;32mnot\u001b[0m \u001b[0;32mNone\u001b[0m \u001b[0;32mand\u001b[0m \u001b[0mself\u001b[0m\u001b[0;34m.\u001b[0m\u001b[0munits\u001b[0m \u001b[0;32mis\u001b[0m \u001b[0;32mNone\u001b[0m\u001b[0;34m:\u001b[0m\u001b[0;34m\u001b[0m\u001b[0;34m\u001b[0m\u001b[0m\n\u001b[1;32m   1475\u001b[0m             \u001b[0mself\u001b[0m\u001b[0;34m.\u001b[0m\u001b[0mset_units\u001b[0m\u001b[0;34m(\u001b[0m\u001b[0mdefault\u001b[0m\u001b[0;34m)\u001b[0m\u001b[0;34m\u001b[0m\u001b[0;34m\u001b[0m\u001b[0m\n",
            "\u001b[0;32m/usr/local/lib/python3.6/dist-packages/matplotlib/category.py\u001b[0m in \u001b[0;36mdefault_units\u001b[0;34m(data, axis)\u001b[0m\n\u001b[1;32m    101\u001b[0m         \u001b[0;31m# default_units->axis_info->convert\u001b[0m\u001b[0;34m\u001b[0m\u001b[0;34m\u001b[0m\u001b[0;34m\u001b[0m\u001b[0m\n\u001b[1;32m    102\u001b[0m         \u001b[0;32mif\u001b[0m \u001b[0maxis\u001b[0m\u001b[0;34m.\u001b[0m\u001b[0munits\u001b[0m \u001b[0;32mis\u001b[0m \u001b[0;32mNone\u001b[0m\u001b[0;34m:\u001b[0m\u001b[0;34m\u001b[0m\u001b[0;34m\u001b[0m\u001b[0m\n\u001b[0;32m--> 103\u001b[0;31m             \u001b[0maxis\u001b[0m\u001b[0;34m.\u001b[0m\u001b[0mset_units\u001b[0m\u001b[0;34m(\u001b[0m\u001b[0mUnitData\u001b[0m\u001b[0;34m(\u001b[0m\u001b[0mdata\u001b[0m\u001b[0;34m)\u001b[0m\u001b[0;34m)\u001b[0m\u001b[0;34m\u001b[0m\u001b[0;34m\u001b[0m\u001b[0m\n\u001b[0m\u001b[1;32m    104\u001b[0m         \u001b[0;32melse\u001b[0m\u001b[0;34m:\u001b[0m\u001b[0;34m\u001b[0m\u001b[0;34m\u001b[0m\u001b[0m\n\u001b[1;32m    105\u001b[0m             \u001b[0maxis\u001b[0m\u001b[0;34m.\u001b[0m\u001b[0munits\u001b[0m\u001b[0;34m.\u001b[0m\u001b[0mupdate\u001b[0m\u001b[0;34m(\u001b[0m\u001b[0mdata\u001b[0m\u001b[0;34m)\u001b[0m\u001b[0;34m\u001b[0m\u001b[0;34m\u001b[0m\u001b[0m\n",
            "\u001b[0;32m/usr/local/lib/python3.6/dist-packages/matplotlib/category.py\u001b[0m in \u001b[0;36m__init__\u001b[0;34m(self, data)\u001b[0m\n\u001b[1;32m    167\u001b[0m         \u001b[0mself\u001b[0m\u001b[0;34m.\u001b[0m\u001b[0m_counter\u001b[0m \u001b[0;34m=\u001b[0m \u001b[0mitertools\u001b[0m\u001b[0;34m.\u001b[0m\u001b[0mcount\u001b[0m\u001b[0;34m(\u001b[0m\u001b[0;34m)\u001b[0m\u001b[0;34m\u001b[0m\u001b[0;34m\u001b[0m\u001b[0m\n\u001b[1;32m    168\u001b[0m         \u001b[0;32mif\u001b[0m \u001b[0mdata\u001b[0m \u001b[0;32mis\u001b[0m \u001b[0;32mnot\u001b[0m \u001b[0;32mNone\u001b[0m\u001b[0;34m:\u001b[0m\u001b[0;34m\u001b[0m\u001b[0;34m\u001b[0m\u001b[0m\n\u001b[0;32m--> 169\u001b[0;31m             \u001b[0mself\u001b[0m\u001b[0;34m.\u001b[0m\u001b[0mupdate\u001b[0m\u001b[0;34m(\u001b[0m\u001b[0mdata\u001b[0m\u001b[0;34m)\u001b[0m\u001b[0;34m\u001b[0m\u001b[0;34m\u001b[0m\u001b[0m\n\u001b[0m\u001b[1;32m    170\u001b[0m \u001b[0;34m\u001b[0m\u001b[0m\n\u001b[1;32m    171\u001b[0m     \u001b[0;32mdef\u001b[0m \u001b[0mupdate\u001b[0m\u001b[0;34m(\u001b[0m\u001b[0mself\u001b[0m\u001b[0;34m,\u001b[0m \u001b[0mdata\u001b[0m\u001b[0;34m)\u001b[0m\u001b[0;34m:\u001b[0m\u001b[0;34m\u001b[0m\u001b[0;34m\u001b[0m\u001b[0m\n",
            "\u001b[0;32m/usr/local/lib/python3.6/dist-packages/matplotlib/category.py\u001b[0m in \u001b[0;36mupdate\u001b[0;34m(self, data)\u001b[0m\n\u001b[1;32m    184\u001b[0m         \u001b[0mdata\u001b[0m \u001b[0;34m=\u001b[0m \u001b[0mnp\u001b[0m\u001b[0;34m.\u001b[0m\u001b[0matleast_1d\u001b[0m\u001b[0;34m(\u001b[0m\u001b[0mnp\u001b[0m\u001b[0;34m.\u001b[0m\u001b[0marray\u001b[0m\u001b[0;34m(\u001b[0m\u001b[0mdata\u001b[0m\u001b[0;34m,\u001b[0m \u001b[0mdtype\u001b[0m\u001b[0;34m=\u001b[0m\u001b[0mobject\u001b[0m\u001b[0;34m)\u001b[0m\u001b[0;34m)\u001b[0m\u001b[0;34m\u001b[0m\u001b[0;34m\u001b[0m\u001b[0m\n\u001b[1;32m    185\u001b[0m \u001b[0;34m\u001b[0m\u001b[0m\n\u001b[0;32m--> 186\u001b[0;31m         \u001b[0;32mfor\u001b[0m \u001b[0mval\u001b[0m \u001b[0;32min\u001b[0m \u001b[0mOrderedDict\u001b[0m\u001b[0;34m.\u001b[0m\u001b[0mfromkeys\u001b[0m\u001b[0;34m(\u001b[0m\u001b[0mdata\u001b[0m\u001b[0;34m)\u001b[0m\u001b[0;34m:\u001b[0m\u001b[0;34m\u001b[0m\u001b[0;34m\u001b[0m\u001b[0m\n\u001b[0m\u001b[1;32m    187\u001b[0m             \u001b[0;32mif\u001b[0m \u001b[0;32mnot\u001b[0m \u001b[0misinstance\u001b[0m\u001b[0;34m(\u001b[0m\u001b[0mval\u001b[0m\u001b[0;34m,\u001b[0m \u001b[0;34m(\u001b[0m\u001b[0mstr\u001b[0m\u001b[0;34m,\u001b[0m \u001b[0mbytes\u001b[0m\u001b[0;34m)\u001b[0m\u001b[0;34m)\u001b[0m\u001b[0;34m:\u001b[0m\u001b[0;34m\u001b[0m\u001b[0;34m\u001b[0m\u001b[0m\n\u001b[1;32m    188\u001b[0m                 \u001b[0;32mraise\u001b[0m \u001b[0mTypeError\u001b[0m\u001b[0;34m(\u001b[0m\u001b[0;34m\"{val!r} is not a string\"\u001b[0m\u001b[0;34m.\u001b[0m\u001b[0mformat\u001b[0m\u001b[0;34m(\u001b[0m\u001b[0mval\u001b[0m\u001b[0;34m=\u001b[0m\u001b[0mval\u001b[0m\u001b[0;34m)\u001b[0m\u001b[0;34m)\u001b[0m\u001b[0;34m\u001b[0m\u001b[0;34m\u001b[0m\u001b[0m\n",
            "\u001b[0;31mTypeError\u001b[0m: unhashable type: 'numpy.ndarray'"
          ]
        },
        {
          "output_type": "display_data",
          "data": {
            "image/png": "[encoded data removed]",
            "text/plain": [
              "<Figure size 432x288 with 1 Axes>"
            ]
          },
          "metadata": {
            "tags": []
          }
        }
      ]
    },
    {
      "cell_type": "code",
      "metadata": {
        "id": "NEaa1yrlRLDq",
        "colab_type": "code",
        "outputId": "d29abdc0-a94d-4661-92c6-2f2421f8e11f",
        "colab": {
          "base_uri": "https://localhost:8080/",
          "height": 36
        }
      },
      "source": [
        "#Split dataframe into two dataframes\n",
        "global_stats1 = global_stats.iloc[:7]\n",
        "global_stats1 = global_stats1.set_index('FLO', inplace = True)\n",
        "#global_stats2 = global_stats.iloc[:, 7:]\n",
        "print(global_stats1)"
      ],
      "execution_count": 0,
      "outputs": [
        {
          "output_type": "stream",
          "text": [
            "None\n"
          ],
          "name": "stdout"
        }
      ]
    },
    {
      "cell_type": "code",
      "metadata": {
        "id": "LN74sMvOm2va",
        "colab_type": "code",
        "outputId": "306da8fd-c41f-49a2-c808-b2462f6c0353",
        "colab": {
          "base_uri": "https://localhost:8080/",
          "height": 247
        }
      },
      "source": [
        "global_stats1 = global_stats1['mean']].set_index('FLO', inplace = True)\n",
        "global_stats1.plot(kind = 'barh', figsize = (10, 6))\n",
        "\n",
        "plt.title('Average Delay Time in case delayed')\n",
        "plt.xlabel('Time')\n",
        "plt.ylabel('Airlines')\n",
        "\n",
        "plt.show()"
      ],
      "execution_count": 0,
      "outputs": [
        {
          "output_type": "error",
          "ename": "TypeError",
          "evalue": "ignored",
          "traceback": [
            "\u001b[0;31m---------------------------------------------------------------------------\u001b[0m",
            "\u001b[0;31mTypeError\u001b[0m                                 Traceback (most recent call last)",
            "\u001b[0;32m<ipython-input-98-08eb183953e4>\u001b[0m in \u001b[0;36m<module>\u001b[0;34m()\u001b[0m\n\u001b[0;32m----> 1\u001b[0;31m \u001b[0mglobal_stats1\u001b[0m \u001b[0;34m=\u001b[0m \u001b[0mglobal_stats1\u001b[0m\u001b[0;34m[\u001b[0m\u001b[0;34m[\u001b[0m\u001b[0;34m'FLO'\u001b[0m\u001b[0;34m,\u001b[0m \u001b[0;34m'mean'\u001b[0m\u001b[0;34m]\u001b[0m\u001b[0;34m]\u001b[0m\u001b[0;34m.\u001b[0m\u001b[0mset_index\u001b[0m\u001b[0;34m(\u001b[0m\u001b[0;34m'FLO'\u001b[0m\u001b[0;34m,\u001b[0m \u001b[0minplace\u001b[0m \u001b[0;34m=\u001b[0m \u001b[0;32mTrue\u001b[0m\u001b[0;34m)\u001b[0m\u001b[0;34m\u001b[0m\u001b[0;34m\u001b[0m\u001b[0m\n\u001b[0m\u001b[1;32m      2\u001b[0m \u001b[0mglobal_stats1\u001b[0m\u001b[0;34m.\u001b[0m\u001b[0mplot\u001b[0m\u001b[0;34m(\u001b[0m\u001b[0mkind\u001b[0m \u001b[0;34m=\u001b[0m \u001b[0;34m'barh'\u001b[0m\u001b[0;34m,\u001b[0m \u001b[0mfigsize\u001b[0m \u001b[0;34m=\u001b[0m \u001b[0;34m(\u001b[0m\u001b[0;36m10\u001b[0m\u001b[0;34m,\u001b[0m \u001b[0;36m6\u001b[0m\u001b[0;34m)\u001b[0m\u001b[0;34m)\u001b[0m\u001b[0;34m\u001b[0m\u001b[0;34m\u001b[0m\u001b[0m\n\u001b[1;32m      3\u001b[0m \u001b[0;34m\u001b[0m\u001b[0m\n\u001b[1;32m      4\u001b[0m \u001b[0mplt\u001b[0m\u001b[0;34m.\u001b[0m\u001b[0mtitle\u001b[0m\u001b[0;34m(\u001b[0m\u001b[0;34m'Average Delay Time in case delayed'\u001b[0m\u001b[0;34m)\u001b[0m\u001b[0;34m\u001b[0m\u001b[0;34m\u001b[0m\u001b[0m\n\u001b[1;32m      5\u001b[0m \u001b[0mplt\u001b[0m\u001b[0;34m.\u001b[0m\u001b[0mxlabel\u001b[0m\u001b[0;34m(\u001b[0m\u001b[0;34m'Time'\u001b[0m\u001b[0;34m)\u001b[0m\u001b[0;34m\u001b[0m\u001b[0;34m\u001b[0m\u001b[0m\n",
            "\u001b[0;31mTypeError\u001b[0m: 'NoneType' object is not subscriptable"
          ]
        }
      ]
    },
    {
      "cell_type": "code",
      "metadata": {
        "id": "6uDKN9j4m-YD",
        "colab_type": "code",
        "outputId": "313d7287-4d34-4c6b-8426-279adc6ef033",
        "colab": {
          "base_uri": "https://localhost:8080/",
          "height": 333
        }
      },
      "source": [
        "print(global_stats)"
      ],
      "execution_count": 0,
      "outputs": [
        {
          "output_type": "stream",
          "text": [
            "                 FLO DLY  ...                      mean                min\n",
            "0          T'way Air   Y  ...    0 days 00:54:42.482233  -1 days +01:02:00\n",
            "1    Easter airlines   Y  ...    0 days 00:57:59.018590    0 days 00:31:00\n",
            "2         Air Busan    Y  ...    0 days 00:54:20.363312    0 days 00:31:00\n",
            "3           Jin Air    Y  ...    0 days 00:51:51.587982    0 days 00:31:00\n",
            "4      Jeju airlines   Y  ...    0 days 00:52:46.859138    0 days 00:31:00\n",
            "5    Asiana airlines   Y  ...    0 days 00:55:51.853116    0 days 00:31:00\n",
            "6   Korean Air Lines   Y  ...    0 days 00:49:57.981169  -1 days +09:08:00\n",
            "7          T'way Air   N  ...    0 days 00:03:22.559672  -1 days +01:05:00\n",
            "8    Easter airlines   N  ...  -1 days +23:59:21.023062  -1 days +00:05:00\n",
            "9           Jin Air    N  ...    0 days 00:01:26.959139  -1 days +01:05:00\n",
            "10     Jeju airlines   N  ...    0 days 00:02:09.807590  -1 days +00:10:00\n",
            "11        Air Busan    N  ...  -1 days +23:59:30.622394  -1 days +00:50:00\n",
            "12   Asiana airlines   N  ...  -1 days +23:57:24.057805  -1 days +00:30:00\n",
            "13  Korean Air Lines   N  ...  -1 days +23:57:28.662081  -1 days +01:08:00\n",
            "\n",
            "[14 rows x 6 columns]\n"
          ],
          "name": "stdout"
        }
      ]
    },
    {
      "cell_type": "code",
      "metadata": {
        "id": "B7fofRWRhsZR",
        "colab_type": "code",
        "outputId": "fcd5c983-422d-4011-f077-2414ae655d79",
        "colab": {
          "base_uri": "https://localhost:8080/",
          "height": 277
        }
      },
      "source": [
        "delays = list(map(float, global_stats['mean']))\n",
        "delays"
      ],
      "execution_count": 0,
      "outputs": [
        {
          "output_type": "execute_result",
          "data": {
            "text/plain": [
              "['0 days 00:54:42.482233',\n",
              " '0 days 00:57:59.018590',\n",
              " '0 days 00:54:20.363312',\n",
              " '0 days 00:51:51.587982',\n",
              " '0 days 00:52:46.859138',\n",
              " '0 days 00:55:51.853116',\n",
              " '0 days 00:49:57.981169',\n",
              " '0 days 00:03:22.559672',\n",
              " '-1 days +23:59:21.023062',\n",
              " '0 days 00:01:26.959139',\n",
              " '0 days 00:02:09.807590',\n",
              " '-1 days +23:59:30.622394',\n",
              " '-1 days +23:57:24.057805',\n",
              " '-1 days +23:57:28.662081']"
            ]
          },
          "metadata": {
            "tags": []
          },
          "execution_count": 87
        }
      ]
    },
    {
      "cell_type": "markdown",
      "metadata": {
        "id": "eeDIxGklXRP6",
        "colab_type": "text"
      },
      "source": [
        "# Departure & Arrival"
      ]
    },
    {
      "cell_type": "markdown",
      "metadata": {
        "id": "UQdK-JKAefvZ",
        "colab_type": "text"
      },
      "source": [
        "###Tip! Ways to select row\n",
        " \n",
        "  There are main 3 ways to select rows:\n",
        "\n",
        "```python\n",
        "    df.loc[label]        \n",
        "        #filters by the labels of the index/column\n",
        "    df.iloc[index]       \n",
        "        #filters by the positions of the index/column\n",
        "```\n",
        "\n",
        "#### .loc and .iloc are different?\n",
        "\n",
        "Absolutely. It's Label based locating, and Integer based locating, which literally stand for 'Label of Column' and 'Index/Integer of Column' respectively. "
      ]
    },
    {
      "cell_type": "code",
      "metadata": {
        "id": "mrN6spdtvULb",
        "colab_type": "code",
        "outputId": "96be51c9-93ac-4aea-9b5b-017df0a7a30b",
        "colab": {
          "base_uri": "https://localhost:8080/",
          "height": 206
        }
      },
      "source": [
        "df.head()"
      ],
      "execution_count": 0,
      "outputs": [
        {
          "output_type": "execute_result",
          "data": {
            "text/html": [
              "<div>\n",
              "<style scoped>\n",
              "    .dataframe tbody tr th:only-of-type {\n",
              "        vertical-align: middle;\n",
              "    }\n",
              "\n",
              "    .dataframe tbody tr th {\n",
              "        vertical-align: top;\n",
              "    }\n",
              "\n",
              "    .dataframe thead th {\n",
              "        text-align: right;\n",
              "    }\n",
              "</style>\n",
              "<table border=\"1\" class=\"dataframe\">\n",
              "  <thead>\n",
              "    <tr style=\"text-align: right;\">\n",
              "      <th></th>\n",
              "      <th>Date</th>\n",
              "      <th>Delay_time</th>\n",
              "      <th>AOD</th>\n",
              "      <th>ARP</th>\n",
              "      <th>ODP</th>\n",
              "      <th>FLO</th>\n",
              "      <th>FLT</th>\n",
              "      <th>IRR</th>\n",
              "      <th>DLY</th>\n",
              "      <th>DRR</th>\n",
              "      <th>CNL</th>\n",
              "      <th>CNR</th>\n",
              "    </tr>\n",
              "  </thead>\n",
              "  <tbody>\n",
              "    <tr>\n",
              "      <th>0</th>\n",
              "      <td>2017-01-01</td>\n",
              "      <td>00:27:00</td>\n",
              "      <td>D</td>\n",
              "      <td>ARP3</td>\n",
              "      <td>ARP6</td>\n",
              "      <td>Korean Air Lines</td>\n",
              "      <td>J1955</td>\n",
              "      <td>N</td>\n",
              "      <td>N</td>\n",
              "      <td>NaN</td>\n",
              "      <td>N</td>\n",
              "      <td>NaN</td>\n",
              "    </tr>\n",
              "    <tr>\n",
              "      <th>1</th>\n",
              "      <td>2017-01-01</td>\n",
              "      <td>00:01:00</td>\n",
              "      <td>A</td>\n",
              "      <td>ARP3</td>\n",
              "      <td>ARP6</td>\n",
              "      <td>Korean Air Lines</td>\n",
              "      <td>J1954</td>\n",
              "      <td>N</td>\n",
              "      <td>N</td>\n",
              "      <td>NaN</td>\n",
              "      <td>N</td>\n",
              "      <td>NaN</td>\n",
              "    </tr>\n",
              "    <tr>\n",
              "      <th>2</th>\n",
              "      <td>2017-01-01</td>\n",
              "      <td>00:18:00</td>\n",
              "      <td>A</td>\n",
              "      <td>ARP3</td>\n",
              "      <td>ARP6</td>\n",
              "      <td>Korean Air Lines</td>\n",
              "      <td>J1956</td>\n",
              "      <td>N</td>\n",
              "      <td>N</td>\n",
              "      <td>NaN</td>\n",
              "      <td>N</td>\n",
              "      <td>NaN</td>\n",
              "    </tr>\n",
              "    <tr>\n",
              "      <th>3</th>\n",
              "      <td>2017-01-01</td>\n",
              "      <td>00:44:00</td>\n",
              "      <td>D</td>\n",
              "      <td>ARP3</td>\n",
              "      <td>ARP6</td>\n",
              "      <td>Korean Air Lines</td>\n",
              "      <td>J1957</td>\n",
              "      <td>N</td>\n",
              "      <td>Y</td>\n",
              "      <td>C02</td>\n",
              "      <td>N</td>\n",
              "      <td>NaN</td>\n",
              "    </tr>\n",
              "    <tr>\n",
              "      <th>4</th>\n",
              "      <td>2017-01-01</td>\n",
              "      <td>00:21:00</td>\n",
              "      <td>A</td>\n",
              "      <td>ARP3</td>\n",
              "      <td>ARP6</td>\n",
              "      <td>Korean Air Lines</td>\n",
              "      <td>J1958</td>\n",
              "      <td>N</td>\n",
              "      <td>N</td>\n",
              "      <td>NaN</td>\n",
              "      <td>N</td>\n",
              "      <td>NaN</td>\n",
              "    </tr>\n",
              "  </tbody>\n",
              "</table>\n",
              "</div>"
            ],
            "text/plain": [
              "         Date Delay_time AOD   ARP   ODP  ... IRR DLY  DRR CNL  CNR\n",
              "0  2017-01-01   00:27:00   D  ARP3  ARP6  ...   N   N  NaN   N  NaN\n",
              "1  2017-01-01   00:01:00   A  ARP3  ARP6  ...   N   N  NaN   N  NaN\n",
              "2  2017-01-01   00:18:00   A  ARP3  ARP6  ...   N   N  NaN   N  NaN\n",
              "3  2017-01-01   00:44:00   D  ARP3  ARP6  ...   N   Y  C02   N  NaN\n",
              "4  2017-01-01   00:21:00   A  ARP3  ARP6  ...   N   N  NaN   N  NaN\n",
              "\n",
              "[5 rows x 12 columns]"
            ]
          },
          "metadata": {
            "tags": []
          },
          "execution_count": 53
        }
      ]
    },
    {
      "cell_type": "markdown",
      "metadata": {
        "id": "e_Hp-fPTbBux",
        "colab_type": "text"
      },
      "source": [
        "## 1. Departure airport"
      ]
    },
    {
      "cell_type": "code",
      "metadata": {
        "id": "CB_O_9gBbSP5",
        "colab_type": "code",
        "outputId": "c547a118-86b6-42cf-80fb-c89dc81b87fb",
        "colab": {
          "base_uri": "https://localhost:8080/",
          "height": 337
        }
      },
      "source": [
        "df3_dpt = df3[df3['AOD'] == 'D']\n",
        "df3_dpt.ARP.value_counts().plot(kind = 'bar')\n",
        "\n",
        "\n",
        "plt.xlabel('Departure Airport')\n",
        "plt.ylabel('Number of Times')\n",
        "plt.title('Flights From Each Airport')"
      ],
      "execution_count": 0,
      "outputs": [
        {
          "output_type": "execute_result",
          "data": {
            "text/plain": [
              "Text(0.5, 1.0, 'Flights From Each Airport')"
            ]
          },
          "metadata": {
            "tags": []
          },
          "execution_count": 40
        },
        {
          "output_type": "display_data",
          "data": {
            "image/png": "[encoded data removed]",
            "text/plain": [
              "<Figure size 432x288 with 1 Axes>"
            ]
          },
          "metadata": {
            "tags": []
          }
        }
      ]
    },
    {
      "cell_type": "markdown",
      "metadata": {
        "id": "_anNna-PbHdj",
        "colab_type": "text"
      },
      "source": [
        "## 2. Arrival airport"
      ]
    },
    {
      "cell_type": "code",
      "metadata": {
        "id": "9Ik5zmQoXYBy",
        "colab_type": "code",
        "outputId": "0e56b9fa-256f-4faa-ac78-b08944ea91ce",
        "colab": {
          "base_uri": "https://localhost:8080/",
          "height": 364
        }
      },
      "source": [
        "df3.head()\n",
        "df3_arrival = df3[(df3['AOD'] == 'A') & (df3['Date'] == '2017-01-03')]\n",
        "df3_arrival.ARP.value_counts().plot(kind = 'line')\n",
        "\n",
        "df3_arrival.head()"
      ],
      "execution_count": 0,
      "outputs": [
        {
          "output_type": "execute_result",
          "data": {
            "text/html": [
              "<div>\n",
              "<style scoped>\n",
              "    .dataframe tbody tr th:only-of-type {\n",
              "        vertical-align: middle;\n",
              "    }\n",
              "\n",
              "    .dataframe tbody tr th {\n",
              "        vertical-align: top;\n",
              "    }\n",
              "\n",
              "    .dataframe thead th {\n",
              "        text-align: right;\n",
              "    }\n",
              "</style>\n",
              "<table border=\"1\" class=\"dataframe\">\n",
              "  <thead>\n",
              "    <tr style=\"text-align: right;\">\n",
              "      <th></th>\n",
              "      <th>Date</th>\n",
              "      <th>SDT_DY</th>\n",
              "      <th>ARP</th>\n",
              "      <th>ODP</th>\n",
              "      <th>FLT</th>\n",
              "      <th>AOD</th>\n",
              "      <th>IRR</th>\n",
              "      <th>STT</th>\n",
              "      <th>Intervals</th>\n",
              "      <th>DLY</th>\n",
              "      <th>DRR</th>\n",
              "    </tr>\n",
              "  </thead>\n",
              "  <tbody>\n",
              "    <tr>\n",
              "      <th>618</th>\n",
              "      <td>2017-01-03</td>\n",
              "      <td>È­</td>\n",
              "      <td>ARP14</td>\n",
              "      <td>ARP3</td>\n",
              "      <td>J1855</td>\n",
              "      <td>A</td>\n",
              "      <td>N</td>\n",
              "      <td>12:15</td>\n",
              "      <td>01:22:00</td>\n",
              "      <td>Y</td>\n",
              "      <td>A01</td>\n",
              "    </tr>\n",
              "    <tr>\n",
              "      <th>163232</th>\n",
              "      <td>2017-01-03</td>\n",
              "      <td>È­</td>\n",
              "      <td>ARP6</td>\n",
              "      <td>ARP3</td>\n",
              "      <td>F1706</td>\n",
              "      <td>A</td>\n",
              "      <td>N</td>\n",
              "      <td>9:00</td>\n",
              "      <td>01:16:00</td>\n",
              "      <td>Y</td>\n",
              "      <td>A01</td>\n",
              "    </tr>\n",
              "  </tbody>\n",
              "</table>\n",
              "</div>"
            ],
            "text/plain": [
              "             Date SDT_DY    ARP   ODP    FLT AOD IRR    STT Intervals DLY  DRR\n",
              "618    2017-01-03     È­  ARP14  ARP3  J1855   A   N  12:15  01:22:00   Y  A01\n",
              "163232 2017-01-03     È­   ARP6  ARP3  F1706   A   N   9:00  01:16:00   Y  A01"
            ]
          },
          "metadata": {
            "tags": []
          },
          "execution_count": 35
        },
        {
          "output_type": "display_data",
          "data": {
            "image/png": "[encoded data removed]",
            "text/plain": [
              "<Figure size 432x288 with 1 Axes>"
            ]
          },
          "metadata": {
            "tags": []
          }
        }
      ]
    },
    {
      "cell_type": "markdown",
      "metadata": {
        "id": "9mikz8rqgjeq",
        "colab_type": "text"
      },
      "source": [
        "# Scraping SIGMET data"
      ]
    },
    {
      "cell_type": "code",
      "metadata": {
        "id": "Bh7HE_4Zgq1_",
        "colab_type": "code",
        "outputId": "52253ca1-ac0c-4852-a54c-5eed1fa2364d",
        "colab": {
          "base_uri": "https://localhost:8080/",
          "height": 36
        }
      },
      "source": [
        "from bs4 import BeautifulSoup\n",
        "import requests\n",
        "\n",
        "base_url = \"http://amoapi.kma.go.kr/amoApi/iwxxm/sigmet\"\n",
        "response = requests.get(base_url)\n",
        "soup = BeautifulSoup(response.content, 'xml')\n",
        "items = soup.find_all('item')\n",
        "print(items)"
      ],
      "execution_count": 0,
      "outputs": [
        {
          "output_type": "stream",
          "text": [
            "[]\n"
          ],
          "name": "stdout"
        }
      ]
    },
    {
      "cell_type": "code",
      "metadata": {
        "id": "QNOO4N5OhSx-",
        "colab_type": "code",
        "colab": {}
      },
      "source": [
        ""
      ],
      "execution_count": 0,
      "outputs": []
    }
  ]
}