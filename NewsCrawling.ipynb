{
  "nbformat": 4,
  "nbformat_minor": 0,
  "metadata": {
    "colab": {
      "name": "NewsCrawling.ipynb",
      "provenance": [],
      "collapsed_sections": [],
      "machine_shape": "hm",
      "include_colab_link": true
    },
    "kernelspec": {
      "name": "python3",
      "display_name": "Python 3"
    }
  },
  "cells": [
    {
      "cell_type": "markdown",
      "metadata": {
        "id": "view-in-github",
        "colab_type": "text"
      },
      "source": [
        "<a href=\"https://colab.research.google.com/github/wkdalsgh192/Crawling/blob/master/NewsCrawling.ipynb\" target=\"_parent\"><img src=\"https://colab.research.google.com/assets/colab-badge.svg\" alt=\"Open In Colab\"/></a>"
      ]
    },
    {
      "cell_type": "code",
      "metadata": {
        "id": "Oth3W1KQtfEM",
        "colab_type": "code",
        "colab": {
          "base_uri": "https://localhost:8080/",
          "height": 130
        },
        "outputId": "f64bf36d-1925-47a6-a9f9-25c606a7809c"
      },
      "source": [
        "from google.colab import drive\n",
        "drive.mount('/content/gdrive')"
      ],
      "execution_count": 2,
      "outputs": [
        {
          "output_type": "stream",
          "text": [
            "Go to this URL in a browser: https://accounts.google.com/o/oauth2/auth?client_id=947318989803-6bn6qk8qdgf4n4g3pfee6491hc0brc4i.apps.googleusercontent.com&redirect_uri=urn%3Aietf%3Awg%3Aoauth%3A2.0%3Aoob&scope=email%20https%3A%2F%2Fwww.googleapis.com%2Fauth%2Fdocs.test%20https%3A%2F%2Fwww.googleapis.com%2Fauth%2Fdrive%20https%3A%2F%2Fwww.googleapis.com%2Fauth%2Fdrive.photos.readonly%20https%3A%2F%2Fwww.googleapis.com%2Fauth%2Fpeopleapi.readonly&response_type=code\n",
            "\n",
            "Enter your authorization code:\n",
            "··········\n",
            "Mounted at /content/gdrive\n"
          ],
          "name": "stdout"
        }
      ]
    },
    {
      "cell_type": "markdown",
      "metadata": {
        "id": "X1almpTITDXo",
        "colab_type": "text"
      },
      "source": [
        "#Set a time period to crawl data"
      ]
    },
    {
      "cell_type": "code",
      "metadata": {
        "id": "wninbFShTU76",
        "colab_type": "code",
        "outputId": "e42d91cb-b693-49ba-f46b-193eb8f00acd",
        "colab": {
          "base_uri": "https://localhost:8080/",
          "height": 56
        }
      },
      "source": [
        "import datetime as dt\n",
        "\n",
        "days_range = []\n",
        "start = dt.datetime.strptime(\"2019-09-01\", \"%Y-%m-%d\")\n",
        "end = dt.datetime.strptime(\"2019-09-23\", \"%Y-%m-%d\")\n",
        "date_generated = [start + dt.timedelta(days = x) for x in range(0, (end - start).days)]\n",
        "\n",
        "for date in date_generated:\n",
        "  days_range.append(date.strftime(\"%Y%m%d\"))\n",
        "\n",
        "print(days_range)"
      ],
      "execution_count": 0,
      "outputs": [
        {
          "output_type": "stream",
          "text": [
            "['20190901', '20190902', '20190903', '20190904', '20190905', '20190906', '20190907', '20190908', '20190909', '20190910', '20190911', '20190912', '20190913', '20190914', '20190915', '20190916', '20190917', '20190918', '20190919', '20190920', '20190921', '20190922']\n"
          ],
          "name": "stdout"
        }
      ]
    },
    {
      "cell_type": "markdown",
      "metadata": {
        "id": "-1Mranu3U_nF",
        "colab_type": "text"
      },
      "source": [
        "#Define HTML Parser"
      ]
    },
    {
      "cell_type": "code",
      "metadata": {
        "id": "MYzMA8HtVCuT",
        "colab_type": "code",
        "outputId": "7bd1364c-84c7-4a28-da08-0a25c3d8937d",
        "colab": {
          "base_uri": "https://localhost:8080/",
          "height": 54
        }
      },
      "source": [
        "!pip install bs4"
      ],
      "execution_count": 0,
      "outputs": [
        {
          "output_type": "stream",
          "text": [
            "Requirement already satisfied: bs4 in /usr/local/lib/python3.6/dist-packages (0.0.1)\n",
            "Requirement already satisfied: beautifulsoup4 in /usr/local/lib/python3.6/dist-packages (from bs4) (4.6.3)\n"
          ],
          "name": "stdout"
        }
      ]
    },
    {
      "cell_type": "code",
      "metadata": {
        "id": "L6L0L52PVFab",
        "colab_type": "code",
        "colab": {}
      },
      "source": [
        "import requests\n",
        "from bs4 import BeautifulSoup\n",
        "\n",
        "def get_bs_obj(url):\n",
        "  result = requests.get(url)\n",
        "  bs_obj = BeautifulSoup(result.content, \"html.parser\")\n",
        "\n",
        "  return bs_obj"
      ],
      "execution_count": 0,
      "outputs": []
    },
    {
      "cell_type": "code",
      "metadata": {
        "id": "Zc1m_dVyJ1ZE",
        "colab_type": "code",
        "outputId": "55f0c064-e14d-4e9e-85bb-8df240da100a",
        "colab": {
          "base_uri": "https://localhost:8080/",
          "height": 17
        }
      },
      "source": [
        "from tqdm import tqdm_notebook\n",
        "import re\n",
        "\n",
        "total_list = []\n",
        "\n",
        "def clean_text(text):\n",
        "  cleaned_text = re.sub('\\s+', '', text)\n",
        "  return cleaned_text\n",
        "\n",
        "for date in tqdm_notebook(days_range):\n",
        "  page_list = [0]\n",
        "  #페이지 수 찾기\n",
        "  for page_number in range(1, 500):\n",
        "    news_arrange_url = \"https://news.naver.com/main/list.nhn?mode=LS2D&sid2=269&sid1=100&mid=shm\"\n",
        "    news_list_date_page_url = news_arrange_url + \"&date=\" + str(date) + \"&page=\" + str(page_number)\n",
        "\n",
        "    #get bs_obj\n",
        "    bs_obj = get_bs_obj(news_list_date_page_url)\n",
        "  \n",
        "    paging = bs_obj.select(\"div.paging > strong\")\n",
        "    page = int(paging[0].get_text())\n",
        "    page_list.append(page)\n",
        "\n",
        "    if (len(page_list) > 10) & (page_list[page_number] == page_list[page_number - 1]):\n",
        "      break\n",
        "\n",
        "  title_list = []\n",
        "  date_list = []\n",
        "  press_list = []\n",
        "  final_list = []  \n",
        "  \n",
        "  for page in tqdm_notebook(range(1, len(page_list)-1)):\n",
        "    news_list_url = \"https://news.naver.com/main/list.nhn?mode=LS2D&sid2=269&sid1=100&mid=shm\"\n",
        "    news_title_date_page_url = news_list_url + \"&date=\" + str(date) + \"&page=\" + str(page)\n",
        "\n",
        "    #get bs_obj\n",
        "    news_obj = get_bs_obj(news_title_date_page_url)\n",
        "        \n",
        "    #Print out the news titles\n",
        "    newsis = news_obj.select(\"dt\")\n",
        "    photos = news_obj.select(\"dt.photo\")\n",
        "    times = news_obj.select(\"dd\")\n",
        "    press = news_obj.select(\"dd > span.writing\")\n",
        "\n",
        "    #중복 타이틀 제거\n",
        "    for photo in photos:\n",
        "      newsis.remove(photo)\n",
        "    newsis = newsis\n",
        "    \n",
        "    # 제목 리스트 만들기  \n",
        "    for news, time, pres in zip(newsis, times, press):\n",
        "      total_list.append([clean_text(news.get_text()), date, pres.text])\n",
        "\n",
        "# Make a dataframe and convert it to a csv file\n",
        "import pandas as pd\n",
        "\n",
        "naver_news = pd.DataFrame(total_list, columns = ['title', 'date', 'press'])\n",
        "naver_news.to_csv(\"/content/gdrive/My Drive/Crawling/naver_news.csv\", index = False)\n",
        "\n",
        "\n"
      ],
      "execution_count": 0,
      "outputs": [
        {
          "output_type": "display_data",
          "data": {
            "application/vnd.jupyter.widget-view+json": {
              "model_id": "82e8fe8bcff54f35a3924a7a2e159eaa",
              "version_minor": 0,
              "version_major": 2
            },
            "text/plain": [
              "HBox(children=(IntProgress(value=0, max=22), HTML(value='')))"
            ]
          },
          "metadata": {
            "tags": []
          }
        },
        {
          "output_type": "display_data",
          "data": {
            "application/vnd.jupyter.widget-view+json": {
              "model_id": "147bbebff9cb4d07a7e73a57545cc49a",
              "version_minor": 0,
              "version_major": 2
            },
            "text/plain": [
              "HBox(children=(IntProgress(value=0, max=42), HTML(value='')))"
            ]
          },
          "metadata": {
            "tags": []
          }
        },
        {
          "output_type": "display_data",
          "data": {
            "application/vnd.jupyter.widget-view+json": {
              "model_id": "c583d5b8ec674121ba1bca021c225bd3",
              "version_minor": 0,
              "version_major": 2
            },
            "text/plain": [
              "HBox(children=(IntProgress(value=0, max=177), HTML(value='')))"
            ]
          },
          "metadata": {
            "tags": []
          }
        },
        {
          "output_type": "display_data",
          "data": {
            "application/vnd.jupyter.widget-view+json": {
              "model_id": "4c9aea31cd70431b82c9844e2aec3c51",
              "version_minor": 0,
              "version_major": 2
            },
            "text/plain": [
              "HBox(children=(IntProgress(value=0, max=116), HTML(value='')))"
            ]
          },
          "metadata": {
            "tags": []
          }
        },
        {
          "output_type": "display_data",
          "data": {
            "application/vnd.jupyter.widget-view+json": {
              "model_id": "15f708ef60914ea5a7d9050ca66f236d",
              "version_minor": 0,
              "version_major": 2
            },
            "text/plain": [
              "HBox(children=(IntProgress(value=0, max=110), HTML(value='')))"
            ]
          },
          "metadata": {
            "tags": []
          }
        },
        {
          "output_type": "display_data",
          "data": {
            "application/vnd.jupyter.widget-view+json": {
              "model_id": "9a7ea85f5a9948bd8545613bd225ce71",
              "version_minor": 0,
              "version_major": 2
            },
            "text/plain": [
              "HBox(children=(IntProgress(value=0, max=116), HTML(value='')))"
            ]
          },
          "metadata": {
            "tags": []
          }
        },
        {
          "output_type": "display_data",
          "data": {
            "application/vnd.jupyter.widget-view+json": {
              "model_id": "4d36296e134a43fb99774f200e0b3489",
              "version_minor": 0,
              "version_major": 2
            },
            "text/plain": [
              "HBox(children=(IntProgress(value=0, max=187), HTML(value='')))"
            ]
          },
          "metadata": {
            "tags": []
          }
        },
        {
          "output_type": "display_data",
          "data": {
            "application/vnd.jupyter.widget-view+json": {
              "model_id": "d4167c5dc6404ffcb135a029707f0c9f",
              "version_minor": 0,
              "version_major": 2
            },
            "text/plain": [
              "HBox(children=(IntProgress(value=0, max=26), HTML(value='')))"
            ]
          },
          "metadata": {
            "tags": []
          }
        },
        {
          "output_type": "display_data",
          "data": {
            "application/vnd.jupyter.widget-view+json": {
              "model_id": "d01571640cd64bb9b14a1e55c44f8fd8",
              "version_minor": 0,
              "version_major": 2
            },
            "text/plain": [
              "HBox(children=(IntProgress(value=0, max=35), HTML(value='')))"
            ]
          },
          "metadata": {
            "tags": []
          }
        },
        {
          "output_type": "display_data",
          "data": {
            "application/vnd.jupyter.widget-view+json": {
              "model_id": "fa63a4e050254e169745f20cbf92bfc7",
              "version_minor": 0,
              "version_major": 2
            },
            "text/plain": [
              "HBox(children=(IntProgress(value=0, max=128), HTML(value='')))"
            ]
          },
          "metadata": {
            "tags": []
          }
        },
        {
          "output_type": "display_data",
          "data": {
            "application/vnd.jupyter.widget-view+json": {
              "model_id": "2cde4052440a4f5a8685c921cad29aba",
              "version_minor": 0,
              "version_major": 2
            },
            "text/plain": [
              "HBox(children=(IntProgress(value=0, max=119), HTML(value='')))"
            ]
          },
          "metadata": {
            "tags": []
          }
        },
        {
          "output_type": "display_data",
          "data": {
            "application/vnd.jupyter.widget-view+json": {
              "model_id": "b2c381fa2a7b4cee8ace70165431e9e7",
              "version_minor": 0,
              "version_major": 2
            },
            "text/plain": [
              "HBox(children=(IntProgress(value=0, max=69), HTML(value='')))"
            ]
          },
          "metadata": {
            "tags": []
          }
        },
        {
          "output_type": "display_data",
          "data": {
            "application/vnd.jupyter.widget-view+json": {
              "model_id": "75c82428231445b38371dbec8621ce0b",
              "version_minor": 0,
              "version_major": 2
            },
            "text/plain": [
              "HBox(children=(IntProgress(value=0, max=22), HTML(value='')))"
            ]
          },
          "metadata": {
            "tags": []
          }
        },
        {
          "output_type": "display_data",
          "data": {
            "application/vnd.jupyter.widget-view+json": {
              "model_id": "d596384ba7cb4555a76814d91e41ea9c",
              "version_minor": 0,
              "version_major": 2
            },
            "text/plain": [
              "HBox(children=(IntProgress(value=0, max=18), HTML(value='')))"
            ]
          },
          "metadata": {
            "tags": []
          }
        },
        {
          "output_type": "display_data",
          "data": {
            "application/vnd.jupyter.widget-view+json": {
              "model_id": "6e071d9ff58d4fe3a64a8408e2cb47da",
              "version_minor": 0,
              "version_major": 2
            },
            "text/plain": [
              "HBox(children=(IntProgress(value=0, max=15), HTML(value='')))"
            ]
          },
          "metadata": {
            "tags": []
          }
        },
        {
          "output_type": "display_data",
          "data": {
            "application/vnd.jupyter.widget-view+json": {
              "model_id": "dfb1b22ebd724b2a8000cddce913a8d6",
              "version_minor": 0,
              "version_major": 2
            },
            "text/plain": [
              "HBox(children=(IntProgress(value=0, max=29), HTML(value='')))"
            ]
          },
          "metadata": {
            "tags": []
          }
        },
        {
          "output_type": "display_data",
          "data": {
            "application/vnd.jupyter.widget-view+json": {
              "model_id": "233bc42142a44613a1d34ad9b54565bf",
              "version_minor": 0,
              "version_major": 2
            },
            "text/plain": [
              "HBox(children=(IntProgress(value=0, max=99), HTML(value='')))"
            ]
          },
          "metadata": {
            "tags": []
          }
        },
        {
          "output_type": "display_data",
          "data": {
            "application/vnd.jupyter.widget-view+json": {
              "model_id": "b8eb82bbb68449ce90e61e878a376867",
              "version_minor": 0,
              "version_major": 2
            },
            "text/plain": [
              "HBox(children=(IntProgress(value=0, max=103), HTML(value='')))"
            ]
          },
          "metadata": {
            "tags": []
          }
        },
        {
          "output_type": "display_data",
          "data": {
            "application/vnd.jupyter.widget-view+json": {
              "model_id": "cfea7bb42aed47e0bd36abd9be2cbd78",
              "version_minor": 0,
              "version_major": 2
            },
            "text/plain": [
              "HBox(children=(IntProgress(value=0, max=104), HTML(value='')))"
            ]
          },
          "metadata": {
            "tags": []
          }
        },
        {
          "output_type": "display_data",
          "data": {
            "application/vnd.jupyter.widget-view+json": {
              "model_id": "32ea16f9ec4548fbbec0f6c5ba40ce51",
              "version_minor": 0,
              "version_major": 2
            },
            "text/plain": [
              "HBox(children=(IntProgress(value=0, max=93), HTML(value='')))"
            ]
          },
          "metadata": {
            "tags": []
          }
        },
        {
          "output_type": "display_data",
          "data": {
            "application/vnd.jupyter.widget-view+json": {
              "model_id": "ae02de947b1d48c583c8fd6192a37403",
              "version_minor": 0,
              "version_major": 2
            },
            "text/plain": [
              "HBox(children=(IntProgress(value=0, max=67), HTML(value='')))"
            ]
          },
          "metadata": {
            "tags": []
          }
        },
        {
          "output_type": "display_data",
          "data": {
            "application/vnd.jupyter.widget-view+json": {
              "model_id": "0813d3dc684d4e56a404dadce58284b8",
              "version_minor": 0,
              "version_major": 2
            },
            "text/plain": [
              "HBox(children=(IntProgress(value=0, max=21), HTML(value='')))"
            ]
          },
          "metadata": {
            "tags": []
          }
        },
        {
          "output_type": "display_data",
          "data": {
            "application/vnd.jupyter.widget-view+json": {
              "model_id": "156214ae3dcb4e6b90277e17d56acc78",
              "version_minor": 0,
              "version_major": 2
            },
            "text/plain": [
              "HBox(children=(IntProgress(value=0, max=29), HTML(value='')))"
            ]
          },
          "metadata": {
            "tags": []
          }
        }
      ]
    },
    {
      "cell_type": "code",
      "metadata": {
        "id": "thXuSPFAUJXp",
        "colab_type": "code",
        "outputId": "8820d277-e7df-47c8-bc3b-440b912ae91f",
        "colab": {
          "base_uri": "https://localhost:8080/",
          "height": 54
        }
      },
      "source": [
        "#!/usr/bin/python\n",
        "# coding=cp949\n",
        "\n",
        "#Open the saved file\n",
        "import pandas as pd\n",
        "df_news = pd.read_csv(\"/content/gdrive/My Drive/Crawling/naver_news.csv\")\n",
        "\n",
        "#Find the news containing a subword\n",
        "news = df_news[df_news['title'].str.contains('조국', regex = True)]\n",
        "print(df_news.shape)\n",
        "print('\\'조국\\' takes ', str(round(news.shape[0]/ df_news.shape[0]*100, 2)) + '%', 'in total news')"
      ],
      "execution_count": 4,
      "outputs": [
        {
          "output_type": "stream",
          "text": [
            "(34302, 3)\n",
            "'조국' takes  36.86% in total news\n"
          ],
          "name": "stdout"
        }
      ]
    },
    {
      "cell_type": "code",
      "metadata": {
        "id": "-8VwdZuX28Ra",
        "colab_type": "code",
        "outputId": "3b3e5190-a149-4f3f-f392-dee067a186d1",
        "colab": {
          "base_uri": "https://localhost:8080/",
          "height": 621
        }
      },
      "source": [
        "#!/usr/bin/python\n",
        "# coding=cp949\n",
        "\n",
        "#날짜별 조국 뉴스 기사 변화\n",
        "\n",
        "df_news['count'] = df_news['title'].str.contains('조국', regex = 1)\n",
        "df_news.head()\n",
        "df_date = pd.DataFrame(df_news.groupby('date')['count'].sum()).reset_index()\n",
        "\n",
        "import seaborn as sns\n",
        "import matplotlib.pyplot as plt\n",
        "sns.set_style(\"white\")\n",
        "fig = plt.figure(figsize = (15, 10))\n",
        "ax = sns.lineplot(x = 'date', y = 'count', data = df_date); ax.set_xlabel(\"Date\"); ax.set_ylabel(\"Number of released articles\"); ax.set_title(\"Trend of \\'조국\\' news\")\n",
        "\n",
        "sns.despine(left = True)"
      ],
      "execution_count": 8,
      "outputs": [
        {
          "output_type": "display_data",
          "data": {
            "image/png": "[encoded data removed]",
            "text/plain": [
              "<Figure size 1080x720 with 1 Axes>"
            ]
          },
          "metadata": {
            "tags": []
          }
        }
      ]
    },
    {
      "cell_type": "code",
      "metadata": {
        "id": "HUfsi-5s5jSC",
        "colab_type": "code",
        "outputId": "3bf94116-e534-4794-f482-c9fc92f2c3b7",
        "colab": {
          "base_uri": "https://localhost:8080/",
          "height": 1000
        }
      },
      "source": [
        "#신문사별 조국 뉴스 기사 변화\n",
        "df_press = pd.DataFrame(df_news.groupby('press')['count'].sum())\n",
        "df_press.sort_values('count', axis = 0, ascending = False, inplace = True)\n",
        "df_press"
      ],
      "execution_count": 0,
      "outputs": [
        {
          "output_type": "execute_result",
          "data": {
            "text/html": [
              "<div>\n",
              "<style scoped>\n",
              "    .dataframe tbody tr th:only-of-type {\n",
              "        vertical-align: middle;\n",
              "    }\n",
              "\n",
              "    .dataframe tbody tr th {\n",
              "        vertical-align: top;\n",
              "    }\n",
              "\n",
              "    .dataframe thead th {\n",
              "        text-align: right;\n",
              "    }\n",
              "</style>\n",
              "<table border=\"1\" class=\"dataframe\">\n",
              "  <thead>\n",
              "    <tr style=\"text-align: right;\">\n",
              "      <th></th>\n",
              "      <th>count</th>\n",
              "    </tr>\n",
              "    <tr>\n",
              "      <th>press</th>\n",
              "      <th></th>\n",
              "    </tr>\n",
              "  </thead>\n",
              "  <tbody>\n",
              "    <tr>\n",
              "      <th>뉴시스</th>\n",
              "      <td>2528.0</td>\n",
              "    </tr>\n",
              "    <tr>\n",
              "      <th>연합뉴스</th>\n",
              "      <td>2145.0</td>\n",
              "    </tr>\n",
              "    <tr>\n",
              "      <th>머니S</th>\n",
              "      <td>520.0</td>\n",
              "    </tr>\n",
              "    <tr>\n",
              "      <th>세계일보</th>\n",
              "      <td>427.0</td>\n",
              "    </tr>\n",
              "    <tr>\n",
              "      <th>KBS</th>\n",
              "      <td>425.0</td>\n",
              "    </tr>\n",
              "    <tr>\n",
              "      <th>머니투데이</th>\n",
              "      <td>400.0</td>\n",
              "    </tr>\n",
              "    <tr>\n",
              "      <th>중앙일보</th>\n",
              "      <td>363.0</td>\n",
              "    </tr>\n",
              "    <tr>\n",
              "      <th>노컷뉴스</th>\n",
              "      <td>359.0</td>\n",
              "    </tr>\n",
              "    <tr>\n",
              "      <th>아시아경제</th>\n",
              "      <td>347.0</td>\n",
              "    </tr>\n",
              "    <tr>\n",
              "      <th>매일경제</th>\n",
              "      <td>342.0</td>\n",
              "    </tr>\n",
              "    <tr>\n",
              "      <th>한국경제</th>\n",
              "      <td>332.0</td>\n",
              "    </tr>\n",
              "    <tr>\n",
              "      <th>MBC</th>\n",
              "      <td>320.0</td>\n",
              "    </tr>\n",
              "    <tr>\n",
              "      <th>조선일보</th>\n",
              "      <td>288.0</td>\n",
              "    </tr>\n",
              "    <tr>\n",
              "      <th>MBN</th>\n",
              "      <td>268.0</td>\n",
              "    </tr>\n",
              "    <tr>\n",
              "      <th>연합뉴스TV</th>\n",
              "      <td>268.0</td>\n",
              "    </tr>\n",
              "    <tr>\n",
              "      <th>동아일보</th>\n",
              "      <td>258.0</td>\n",
              "    </tr>\n",
              "    <tr>\n",
              "      <th>파이낸셜뉴스</th>\n",
              "      <td>257.0</td>\n",
              "    </tr>\n",
              "    <tr>\n",
              "      <th>서울신문</th>\n",
              "      <td>244.0</td>\n",
              "    </tr>\n",
              "    <tr>\n",
              "      <th>헤럴드경제</th>\n",
              "      <td>214.0</td>\n",
              "    </tr>\n",
              "    <tr>\n",
              "      <th>TV조선</th>\n",
              "      <td>214.0</td>\n",
              "    </tr>\n",
              "    <tr>\n",
              "      <th>매일신문</th>\n",
              "      <td>209.0</td>\n",
              "    </tr>\n",
              "    <tr>\n",
              "      <th>한국일보</th>\n",
              "      <td>193.0</td>\n",
              "    </tr>\n",
              "    <tr>\n",
              "      <th>부산일보</th>\n",
              "      <td>163.0</td>\n",
              "    </tr>\n",
              "    <tr>\n",
              "      <th>SBS</th>\n",
              "      <td>160.0</td>\n",
              "    </tr>\n",
              "    <tr>\n",
              "      <th>국민일보</th>\n",
              "      <td>150.0</td>\n",
              "    </tr>\n",
              "    <tr>\n",
              "      <th>JTBC</th>\n",
              "      <td>129.0</td>\n",
              "    </tr>\n",
              "    <tr>\n",
              "      <th>디지털타임스</th>\n",
              "      <td>124.0</td>\n",
              "    </tr>\n",
              "    <tr>\n",
              "      <th>서울경제</th>\n",
              "      <td>118.0</td>\n",
              "    </tr>\n",
              "    <tr>\n",
              "      <th>경향신문</th>\n",
              "      <td>106.0</td>\n",
              "    </tr>\n",
              "    <tr>\n",
              "      <th>오마이뉴스</th>\n",
              "      <td>103.0</td>\n",
              "    </tr>\n",
              "    <tr>\n",
              "      <th>프레시안</th>\n",
              "      <td>99.0</td>\n",
              "    </tr>\n",
              "    <tr>\n",
              "      <th>데일리안</th>\n",
              "      <td>98.0</td>\n",
              "    </tr>\n",
              "    <tr>\n",
              "      <th>한국경제TV</th>\n",
              "      <td>66.0</td>\n",
              "    </tr>\n",
              "    <tr>\n",
              "      <th>미디어오늘</th>\n",
              "      <td>56.0</td>\n",
              "    </tr>\n",
              "    <tr>\n",
              "      <th>조세일보</th>\n",
              "      <td>52.0</td>\n",
              "    </tr>\n",
              "    <tr>\n",
              "      <th>YTN</th>\n",
              "      <td>52.0</td>\n",
              "    </tr>\n",
              "    <tr>\n",
              "      <th>아이뉴스24</th>\n",
              "      <td>47.0</td>\n",
              "    </tr>\n",
              "    <tr>\n",
              "      <th>강원일보</th>\n",
              "      <td>44.0</td>\n",
              "    </tr>\n",
              "    <tr>\n",
              "      <th>문화일보</th>\n",
              "      <td>37.0</td>\n",
              "    </tr>\n",
              "    <tr>\n",
              "      <th>채널A</th>\n",
              "      <td>34.0</td>\n",
              "    </tr>\n",
              "    <tr>\n",
              "      <th>전자신문</th>\n",
              "      <td>28.0</td>\n",
              "    </tr>\n",
              "    <tr>\n",
              "      <th>SBS CNBC</th>\n",
              "      <td>26.0</td>\n",
              "    </tr>\n",
              "    <tr>\n",
              "      <th>한겨레</th>\n",
              "      <td>10.0</td>\n",
              "    </tr>\n",
              "    <tr>\n",
              "      <th>여성신문</th>\n",
              "      <td>9.0</td>\n",
              "    </tr>\n",
              "    <tr>\n",
              "      <th>주간조선</th>\n",
              "      <td>6.0</td>\n",
              "    </tr>\n",
              "    <tr>\n",
              "      <th>스포츠조선</th>\n",
              "      <td>4.0</td>\n",
              "    </tr>\n",
              "    <tr>\n",
              "      <th>마이데일리</th>\n",
              "      <td>2.0</td>\n",
              "    </tr>\n",
              "    <tr>\n",
              "      <th>한겨레21</th>\n",
              "      <td>0.0</td>\n",
              "    </tr>\n",
              "    <tr>\n",
              "      <th>스포츠동아</th>\n",
              "      <td>0.0</td>\n",
              "    </tr>\n",
              "    <tr>\n",
              "      <th>OSEN</th>\n",
              "      <td>0.0</td>\n",
              "    </tr>\n",
              "    <tr>\n",
              "      <th>스포츠서울</th>\n",
              "      <td>0.0</td>\n",
              "    </tr>\n",
              "  </tbody>\n",
              "</table>\n",
              "</div>"
            ],
            "text/plain": [
              "           count\n",
              "press           \n",
              "뉴시스       2528.0\n",
              "연합뉴스      2145.0\n",
              "머니S        520.0\n",
              "세계일보       427.0\n",
              "KBS        425.0\n",
              "머니투데이      400.0\n",
              "중앙일보       363.0\n",
              "노컷뉴스       359.0\n",
              "아시아경제      347.0\n",
              "매일경제       342.0\n",
              "한국경제       332.0\n",
              "MBC        320.0\n",
              "조선일보       288.0\n",
              "MBN        268.0\n",
              "연합뉴스TV     268.0\n",
              "동아일보       258.0\n",
              "파이낸셜뉴스     257.0\n",
              "서울신문       244.0\n",
              "헤럴드경제      214.0\n",
              "TV조선       214.0\n",
              "매일신문       209.0\n",
              "한국일보       193.0\n",
              "부산일보       163.0\n",
              "SBS        160.0\n",
              "국민일보       150.0\n",
              "JTBC       129.0\n",
              "디지털타임스     124.0\n",
              "서울경제       118.0\n",
              "경향신문       106.0\n",
              "오마이뉴스      103.0\n",
              "프레시안        99.0\n",
              "데일리안        98.0\n",
              "한국경제TV      66.0\n",
              "미디어오늘       56.0\n",
              "조세일보        52.0\n",
              "YTN         52.0\n",
              "아이뉴스24      47.0\n",
              "강원일보        44.0\n",
              "문화일보        37.0\n",
              "채널A         34.0\n",
              "전자신문        28.0\n",
              "SBS CNBC    26.0\n",
              "한겨레         10.0\n",
              "여성신문         9.0\n",
              "주간조선         6.0\n",
              "스포츠조선        4.0\n",
              "마이데일리        2.0\n",
              "한겨레21        0.0\n",
              "스포츠동아        0.0\n",
              "OSEN         0.0\n",
              "스포츠서울        0.0"
            ]
          },
          "metadata": {
            "tags": []
          },
          "execution_count": 83
        }
      ]
    },
    {
      "cell_type": "code",
      "metadata": {
        "id": "jw5VURPHuGSK",
        "colab_type": "code",
        "colab": {}
      },
      "source": [
        ""
      ],
      "execution_count": 0,
      "outputs": []
    }
  ]
}